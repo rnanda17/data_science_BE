{
 "cells": [
  {
   "cell_type": "markdown",
   "id": "5c34f0f8-4675-43dd-84b9-1940a82985fc",
   "metadata": {},
   "source": [
    "# Tutorial 2 : Data Processing with Pandas\n",
    "\n",
    "\n",
    "###  By the end of this notebook, you will learn how to:\n",
    "\n",
    "- Group and aggregate data to compute summary statistics across categories  \n",
    "- Use `apply()` and `lambda` to perform custom operations on rows or columns \n",
    "- Clean and transform textual data using string methods and filtering techniques  \n",
    "- Visualize patterns in data using built-in Pandas plotting functionality\n"
   ]
  },
  {
   "cell_type": "markdown",
   "id": "c960424a-a0e7-41ee-a0db-0b169b5f6c6d",
   "metadata": {},
   "source": [
    "## Loading the IMDB Movie Dataset\n",
    "\n",
    "We will continue to work on the IMDB movie dataset from the previous tutorial. \n"
   ]
  },
  {
   "cell_type": "code",
   "execution_count": null,
   "id": "f0a2b271-d926-410c-9ed7-559daa8c2e02",
   "metadata": {},
   "outputs": [],
   "source": [
    "import pandas as pd"
   ]
  },
  {
   "cell_type": "code",
   "execution_count": null,
   "id": "3bd86546-f975-46bd-b625-315793f644fa",
   "metadata": {},
   "outputs": [],
   "source": [
    "#If we set index_col=0, we're explicitly stating to treat the first column as the index:\n",
    "movies_df = pd.read_csv(\"https://raw.githubusercontent.com/rnanda17/data_science_BE/refs/heads/main/IMDB-Movie-Data.csv\", index_col=0)\n",
    "\n",
    "movies_df.head(5)"
   ]
  },
  {
   "cell_type": "markdown",
   "id": "f1ee17e3-d451-4a86-918e-44be65f7fd05",
   "metadata": {},
   "source": [
    "## Aggregation\n",
    "\n",
    "So far, we have been calculating statistics for a single column. But what if we want to calculate statistics for multiple columns? For that, we can use aggregation methods.\n",
    "\n",
    "We will learn about the `DataFrame.groupby` method. This method allows us to group rows based on a column and then calculate statistics for each group.\n",
    "\n",
    "For example, if we want to calculate the average rating for each director, we can do the following:"
   ]
  },
  {
   "cell_type": "code",
   "execution_count": null,
   "id": "aa71e544-1b7e-4a04-b615-27ec3561f11e",
   "metadata": {},
   "outputs": [],
   "source": [
    "movies_df.groupby(\"Director\")[\"Rating\"].mean()"
   ]
  },
  {
   "cell_type": "markdown",
   "id": "a23a9656-6c6e-403c-b05c-6a5a9dbffb7e",
   "metadata": {},
   "source": [
    "We can analyse multiple columns at the same time by passing a list of column names to `DataFrame.groupby`. For example, if we want to calculate the average rating and Metascore for each director, we can do the following:"
   ]
  },
  {
   "cell_type": "code",
   "execution_count": null,
   "id": "eac982bf-0473-4e89-877a-547e6b99329c",
   "metadata": {},
   "outputs": [],
   "source": [
    "movies_df.groupby(\"Director\")[[\"Rating\", \"Metascore\"]].mean()"
   ]
  },
  {
   "cell_type": "markdown",
   "id": "a1d2e57b-8f7e-4566-b9b6-224441d17c26",
   "metadata": {},
   "source": [
    "There are many other aggregation methods that you can use with `DataFrame.groupby`. You can find a list of them https://pandas.pydata.org/pandas-docs/stable/reference/groupby.html."
   ]
  },
  {
   "cell_type": "markdown",
   "id": "5fcf44f6-69b7-4e45-9628-cc0f917acf20",
   "metadata": {},
   "source": [
    "## Sorting\n",
    "\n",
    "To sort our DataFrame (or a subset of it) by a column, we can use the `DataFrame.sort_values` method. For instance, to sort movies by rating in descending order, we can do the following:"
   ]
  },
  {
   "cell_type": "code",
   "execution_count": null,
   "id": "9e6738fd-78f3-4727-841e-dfe53ddf5d36",
   "metadata": {},
   "outputs": [],
   "source": [
    "movies_df.sort_values(\"Rating\", ascending=False)"
   ]
  },
  {
   "cell_type": "markdown",
   "id": "d246f94c-8ac1-48f4-9e13-f583471fa995",
   "metadata": {},
   "source": [
    "### Task 1 . Solve the exercises below\n",
    "\n",
    "#### Exercise 1.1: What are the average ratings of movies by year?\n",
    "\n",
    "Hint: Group the data by `Year` and calculate the **average `Rating`** for each year.\n",
    "\n",
    "####  Exercise 1.2: Which Genres Are the Most Highly Rated?\n",
    "\n",
    "Hint: Group the data by `Genre` and calculate the **average rating** for each genre.\n",
    "\n",
    "\n",
    "#### 💰 Exercise 1.3: Which Directors bring the Most Revenue?\n"
   ]
  },
  {
   "cell_type": "markdown",
   "id": "f2acddeb-6572-4312-b6f5-ec6c08587839",
   "metadata": {},
   "source": [
    "### Counting Unique Values\n",
    "\n",
    "To count the number of unique values in a dataframe's column, we can use the `nunique()` method.\n",
    "\n",
    "We can also use the `unique()` method to get a list of all the unique values in a column.\n",
    "\n",
    "For instance, let's get the number of unique directors:"
   ]
  },
  {
   "cell_type": "code",
   "execution_count": null,
   "id": "b987f197-c3f3-4da5-a59e-646af482382f",
   "metadata": {},
   "outputs": [],
   "source": [
    "movies_df.Director.nunique()"
   ]
  },
  {
   "cell_type": "code",
   "execution_count": null,
   "id": "63283ea2-b728-4439-9209-198e4bf51152",
   "metadata": {},
   "outputs": [],
   "source": [
    "# And if we want to get the list of unique directors:\n",
    "print(movies_df.Director.unique())"
   ]
  },
  {
   "cell_type": "markdown",
   "id": "e43a4c28-c674-40b9-b8bb-972a5b3b8259",
   "metadata": {},
   "source": [
    "### Counting Specific Values\n",
    "\n",
    "What if we want to check the number of movies directed by a specific director? We can use the `value_counts()` method.\n",
    "\n",
    "`value_counts()` counts how many times each value appears in a column. It returns a Series, with the values as the index and the counts as the values.\n",
    "\n",
    "We can also get the normalized (percentage) value counts with the `normalize` parameter."
   ]
  },
  {
   "cell_type": "code",
   "execution_count": null,
   "id": "7df50fd3-4070-47b4-9d7a-c29dd28d0ddd",
   "metadata": {},
   "outputs": [],
   "source": [
    "# Getting the number of movies directed by each director:\n",
    "print(movies_df.Director.value_counts())"
   ]
  },
  {
   "cell_type": "code",
   "execution_count": null,
   "id": "95edb025-d65f-42a4-9f90-b76ac0acd1a3",
   "metadata": {},
   "outputs": [],
   "source": [
    "# Normalized value counts.\n",
    "print((movies_df.Director.value_counts(normalize=True)*100))"
   ]
  },
  {
   "cell_type": "code",
   "execution_count": null,
   "id": "58a0eb6e-a706-44ba-bbcf-83ed4c203033",
   "metadata": {},
   "outputs": [],
   "source": [
    "# The percentage must add up to 100%. Let's check that:\n",
    "print((movies_df.Director.value_counts(normalize=True)*100).sum())"
   ]
  },
  {
   "cell_type": "markdown",
   "id": "7512c7f2-4293-4977-9bd7-8cbe76b7c20e",
   "metadata": {},
   "source": [
    "### Counting Values Within Groups\n",
    "\n",
    "We can also count values within groups. The basic function for this is `count()`.\n",
    "\n",
    "`count()` counts the number of non-null values in each group. It returns a Series, with the groups as the index and the counts as the values.\n",
    "\n",
    "We can use the previous methods and apply them to groups (with the `groupby()` method).\n",
    "\n",
    "For instance, let's count the number of movies per genre."
   ]
  },
  {
   "cell_type": "code",
   "execution_count": null,
   "id": "7e38e42f-9dd5-4a7f-8601-9e03305b90c9",
   "metadata": {},
   "outputs": [],
   "source": [
    "# Using count():\n",
    "movies_df.groupby(\"Genre\").Title.count()"
   ]
  },
  {
   "cell_type": "markdown",
   "id": "f37a8997-1149-4967-a520-87fa5e07710c",
   "metadata": {},
   "source": [
    "Now combine the different count methods to answer the following question: What is the unique number of directors per genre?"
   ]
  },
  {
   "cell_type": "code",
   "execution_count": null,
   "id": "9517c026-82ff-4180-81fc-e7aaebf7efb8",
   "metadata": {},
   "outputs": [],
   "source": [
    "# What is the unique number of directors per genre?\n",
    "display(movies_df.groupby(by=\"Genre\")[\"Director\"].nunique())"
   ]
  },
  {
   "cell_type": "markdown",
   "id": "21de508e-8fce-4001-81ee-4260f1fb8437",
   "metadata": {},
   "source": [
    "## Processing Text\n",
    "\n",
    "Carefully, examine the `movies_df` DataFrame and you can see that the `Actors` column contains a list of actors in a string, separated by commas.\n",
    "\n",
    "We can split the string into a list of actors so we can do some data processing operations on individual actors."
   ]
  },
  {
   "cell_type": "markdown",
   "id": "4ed228fe-90ba-4993-bf00-335bffff84d5",
   "metadata": {},
   "source": [
    "### Splitting Strings\n",
    "\n",
    "We can do this with the `str.split()` method.\n",
    "\n",
    "`str` (short for string) is a special attribute of Pandas Series and DataFrames. It contains a lot of useful methods for processing text.\n",
    "\n",
    "Check out the documentation for more information: https://pandas.pydata.org/pandas-docs/stable/reference/series.html#string-handling\n",
    "\n",
    "Before, we use the `str.split()` method, it is important to observe that in the `Actors` column of the `movies_df` DataFrame, some actors are separated by `,` and some by `, ` . So, in some cases the separator is just a comma and in some cases it is a comma followed by a space. So if we use the `str.split()` method without fixing this, this would lead to inconsistent splitting of actor names. So first we will use `str.replace()` methods which allows to replace a substring with another substring. We will replace the commas with space by just commas (with no space). "
   ]
  },
  {
   "cell_type": "code",
   "execution_count": null,
   "id": "1138f34d-b1fd-4671-8a54-3a31df9f91b5",
   "metadata": {},
   "outputs": [],
   "source": [
    "# replace commas with spaces with just commas to ensure consistency for splitting actor names\n",
    "movies_df[\"Actors\"] = movies_df.Actors.str.replace(\", \", \",\")  \n"
   ]
  },
  {
   "cell_type": "code",
   "execution_count": null,
   "id": "d6387c40-3f93-47f4-853b-40ce7019dc2e",
   "metadata": {},
   "outputs": [],
   "source": [
    "# The str.split() method takes a separator as a parameter. By default, it splits on whitespace. In our case, we want to split on commas.\n",
    "movies_df.Actors.str.split(\",\")"
   ]
  },
  {
   "cell_type": "markdown",
   "id": "fa0a171e-7961-4a6c-99e9-ee4658a3c86a",
   "metadata": {},
   "source": [
    "So `str.split()` turned the string into a list of strings. But how do we add each actor to the DataFrame?\n",
    "\n",
    "The easiest option is to add each actor as a new row.\n",
    "\n",
    "We can do this with the `explode()` method.\n",
    "\n",
    "`explode()` takes a column with lists and turns each element of the list into a new row."
   ]
  },
  {
   "cell_type": "code",
   "execution_count": null,
   "id": "8ce953e2-d919-4bc5-9874-4c0ec79751cd",
   "metadata": {},
   "outputs": [],
   "source": [
    "movies_df[\"Actors\"] = movies_df.Actors.str.split(\",\")\n",
    "# We create a new df with the \"exploded\" column\n",
    "movies_df_actors = movies_df.explode(\"Actors\").copy()"
   ]
  },
  {
   "cell_type": "markdown",
   "id": "e1bf4fcf-20df-426e-b7f9-765b5cd9fe3a",
   "metadata": {},
   "source": [
    "Let's have a look at what it does"
   ]
  },
  {
   "cell_type": "code",
   "execution_count": null,
   "id": "2d21c99f-9267-4623-a318-28068b044145",
   "metadata": {},
   "outputs": [],
   "source": [
    "movies_df_actors.explode(\"Actors\")"
   ]
  },
  {
   "cell_type": "markdown",
   "id": "72ceb8ec-c812-4be6-aa26-4ba795f14723",
   "metadata": {},
   "source": [
    "Now we have each actor as a separate row. `explode()` copies the other columns for each new row. Now the length of the DataFrame is the sum of the lengths of the lists in the `Actors` column.\n",
    "\n",
    "Let's check a few things:\n",
    "\n",
    "- Number of unique actors\n",
    "- Number of movies per actor\n",
    "- Number of movies per actor per year"
   ]
  },
  {
   "cell_type": "code",
   "execution_count": null,
   "id": "8a908c1b-f554-4a76-aa0f-436d8fa0cc94",
   "metadata": {},
   "outputs": [],
   "source": [
    "# Number of unique actors\n",
    "movies_df_actors.Actors.nunique()"
   ]
  },
  {
   "cell_type": "code",
   "execution_count": null,
   "id": "ae8f3498-fc6b-4253-83c8-9aed93441525",
   "metadata": {},
   "outputs": [],
   "source": [
    "# Number of movies per actor\n",
    "movies_df_actors.groupby(\"Actors\")[\"Title\"].nunique()"
   ]
  },
  {
   "cell_type": "code",
   "execution_count": null,
   "id": "5b39dc3d-ad99-469e-9eb1-105e989c7eae",
   "metadata": {},
   "outputs": [],
   "source": [
    "# Number of movies per actor per year\n",
    "movies_df_actors.groupby([\"Actors\", \"Year\"])[\"Title\"].nunique()"
   ]
  },
  {
   "cell_type": "markdown",
   "id": "0cda4610-af41-4de2-9198-2ad0731b3c7c",
   "metadata": {},
   "source": [
    "## Aggregating\n",
    "\n",
    "Now that we have the actors as separete rows, we can aggregate their data to get some interesting insights.\n",
    "\n",
    "We have already learned the `groupby()` method, which is the basic function for aggregating data. Let's review it:\n",
    "\n",
    "Let's find out which directors worked with the highest number of different actors."
   ]
  },
  {
   "cell_type": "code",
   "execution_count": null,
   "id": "695490f0-fc4c-4ba2-bc9c-de7fbea06367",
   "metadata": {},
   "outputs": [],
   "source": [
    "movies_df_actors.groupby(\"Director\").Actors.nunique().sort_values(ascending=False).head(5)"
   ]
  },
  {
   "cell_type": "markdown",
   "id": "b1c9ade8-c9f3-4396-a4a9-3a20180385db",
   "metadata": {},
   "source": [
    "### `sum()`\n",
    "\n",
    "`sum()` sums the values in each group. It can also be used to count the number of non-null (or True) values.\n",
    "\n",
    "The other basic statistical functions are `mean()`, `median()`, `min()`, `max()`, and `std()`. They all work the same way.\n",
    "\n",
    "Let's check the mean revenue of each actor."
   ]
  },
  {
   "cell_type": "code",
   "execution_count": null,
   "id": "c76e135b-8faf-4df3-9630-a1a90135a3aa",
   "metadata": {},
   "outputs": [],
   "source": [
    "movies_df_actors.groupby(\"Actors\")[\"Revenue (Millions)\"].mean().sort_values(ascending=False)"
   ]
  },
  {
   "cell_type": "markdown",
   "id": "a5189790-1ed4-4f61-abdd-bca17b2a0035",
   "metadata": {},
   "source": [
    "####  apply () and lambda functions with Pandas\n",
    "\n",
    "`apply()` can be used along with the Python lambda function to apply a custom operation to all columns in a DataFrame. A lambda function is a small anonymous function that can take any number of arguments and execute an expression. We learned about this in the Pre-Tutorial Guide. \n",
    "\n",
    "Let's see a simple example first. We create a simple dataframe with three rows and three columns. "
   ]
  },
  {
   "cell_type": "code",
   "execution_count": null,
   "id": "9caf55c2-10b0-473a-9904-0565f3e2a477",
   "metadata": {},
   "outputs": [],
   "source": [
    "data = [(3,5,7), (2,4,6),(5,8,9)]\n",
    "df = pd.DataFrame(data, columns = ['A','B','C'])\n",
    "df"
   ]
  },
  {
   "cell_type": "markdown",
   "id": "005fcf49-8a90-415f-a04c-3f23ec5364a4",
   "metadata": {},
   "source": [
    "Now lets use the `lambda` and `apply()` function to add `10` to all the elements of the dataframe. We store this in a new dataframe, `df2`."
   ]
  },
  {
   "cell_type": "code",
   "execution_count": null,
   "id": "3cc647d2-80b4-4d34-9850-a11375940f01",
   "metadata": {},
   "outputs": [],
   "source": [
    "# Apply a lambda function to each column\n",
    "df2 = df.apply(lambda x : x + 10)\n",
    "df2"
   ]
  },
  {
   "cell_type": "markdown",
   "id": "45693951-1b6c-4b0f-a509-9e947c821cf0",
   "metadata": {},
   "source": [
    "## 🎬 Task 2 Exercise: Classify Movies by Length Using `apply()` and `lambda`\n",
    "\n",
    "In this exercise, you'll create a new column called **`Length Category`** for the `movies_df` DataFrame, that classifies movies into three categories based on their runtime:\n",
    "\n",
    "- `\"Short\"` if runtime is **less than 90 minutes**\n",
    "- `\"Medium\"` if runtime is **between 90 and 120 minutes (inclusive)**\n",
    "- `\"Long\"` if runtime is **more than 120 minutes**\n",
    "\n",
    "---\n",
    "\n",
    "### 💡 Hints:\n",
    "\n",
    "- Use the column `Runtime (Minutes)`.\n",
    "- Define a function with if-elif-else to return the category.\n",
    "- Use `.apply()` with a `lambda` to apply your function to each value in the column.\n",
    "\n",
    "---\n",
    "\n",
    "### ✅ Example Sample Output: \n",
    "(please note other columns in `movies_df` dataframe are still present, the following output just focuses on the runtime and length category as an example for a sample output).\n",
    "\n",
    "| Title            | Runtime (Minutes) | Length Category |\n",
    "|------------------|------------------|-----------------|\n",
    "| Split            | 117              | Medium          |\n",
    "| Suicide Squad    | 123              | Long            |\n",
    "| Sing             | 108              | Medium          |\n",
    "\n",
    "---\n"
   ]
  },
  {
   "cell_type": "markdown",
   "id": "48671ab8-1b38-4a7f-978e-ae26c64e9334",
   "metadata": {},
   "source": [
    "## Data Visualization\n",
    "\n",
    "Pandas has a built-in visualization system. It is based on Matplotlib.\n",
    "\n",
    "We will learn more about the different types of plots and how to customize them later, but for now, let's just have a quick look at some basic plots.\n",
    "\n",
    "### Scatter Plots\n",
    "- Used to show the relationship between **two numeric variables**.\n",
    "- Each point represents one observation.\n",
    "- Great for spotting **correlations**, **clusters**, or **outliers**.\n",
    "\n",
    "#### Line Plots\n",
    "- Used to show **trends over time** or across ordered categories.\n",
    "- Often used with **time series** data to see how a value changes (e.g., yearly average).\n",
    "- Points are connected with lines to highlight the trend.\n",
    "\n",
    "#### Bar Plots\n",
    "- Used to compare **values across categories** (e.g., number of movies per genre).\n",
    "- Bars can be vertical or horizontal.\n",
    "- Good for seeing **which categories are bigger or smaller**.\n",
    "\n",
    "#### Histograms\n",
    "- Used to show the **distribution** of a single numeric variable.\n",
    "- Helps you see the **shape** of the data (e.g., is it skewed? where is it concentrated?).\n"
   ]
  },
  {
   "cell_type": "markdown",
   "id": "ed0d2b1e-9ccd-4476-b26f-e41774c9e397",
   "metadata": {},
   "source": [
    "### Scatter Plots\n",
    "\n",
    "We can use the `scatter()` method to create a scatter plot.\n",
    "\n",
    "What is the relationship between the revenue and the rating of the movies? Are highly rated movies more profitable?"
   ]
  },
  {
   "cell_type": "code",
   "execution_count": null,
   "id": "83323b43-00aa-4932-86a0-469a8bc120df",
   "metadata": {},
   "outputs": [],
   "source": [
    "movies_df_actors.plot(kind=\"scatter\", x=\"Rating\", y=\"Revenue (Millions)\", title=\"Revenue by Rating\")"
   ]
  },
  {
   "cell_type": "markdown",
   "id": "38e64c2a-cbe8-4715-8e48-abbb83b8fecd",
   "metadata": {},
   "source": [
    "### Line Plots\n",
    "\n",
    "How does the average Metascore change over time? We can use a line plot to visualize this."
   ]
  },
  {
   "cell_type": "code",
   "execution_count": null,
   "id": "5c3b10bd-6722-47d4-8dcc-a79365b4276e",
   "metadata": {},
   "outputs": [],
   "source": [
    "\n",
    "\n",
    "# Group the data by 'Year'\n",
    "grouped_by_year = movies_df_actors.groupby(\"Year\")\n",
    "\n",
    "# Calculate the average Metascore per year\n",
    "average_metascore = grouped_by_year.Metascore.mean()\n",
    "\n",
    "# Plot the average Metascore as a line plot\n",
    "average_metascore.plot(kind=\"line\", title=\"Metascore by Year\", figsize=(10, 5)) # # The figsize parameter is used to set the size of the plot.\n"
   ]
  },
  {
   "cell_type": "markdown",
   "id": "8b84b3c6-71b9-40a2-a418-fbb8ae8ceae2",
   "metadata": {},
   "source": [
    "### Bar Plots\n",
    "\n",
    "Let's use a bar plot to visualize the number of movies per year."
   ]
  },
  {
   "cell_type": "code",
   "execution_count": null,
   "id": "a0b5c29f-64b3-48cb-94e1-f80a07bd15dd",
   "metadata": {},
   "outputs": [],
   "source": [
    "# Group the data by 'Year'\n",
    "grouped_by_year = movies_df_actors.groupby(\"Year\")\n",
    "\n",
    "# Count the number of unique movie titles per year\n",
    "movies_per_year = grouped_by_year.Title.nunique()\n",
    "\n",
    "# Plot the result as a bar chart\n",
    "movies_per_year.plot(kind=\"bar\", x=\"Year\", title=\"Number of Movies per Year\", figsize=(10, 5))\n"
   ]
  },
  {
   "cell_type": "markdown",
   "id": "2523c685-1aa7-4c51-8afc-163c33dbc052",
   "metadata": {},
   "source": [
    "### Histograms\n",
    "\n",
    "We can use a histogram to visualize the distribution of a column.\n",
    "\n",
    "Let's check the distribution of Ratings. What are your key observations from the histogram?"
   ]
  },
  {
   "cell_type": "code",
   "execution_count": null,
   "id": "8d8587e0-c151-4f33-854b-c8255b95f644",
   "metadata": {},
   "outputs": [],
   "source": [
    "movies_df_actors.Rating.hist(bins=10, figsize=(10, 5))"
   ]
  },
  {
   "cell_type": "markdown",
   "id": "e844b0fe-0cca-42f9-8893-ca625f016474",
   "metadata": {},
   "source": [
    "## Task 3\n",
    "\n",
    "#### 3.1 Who are the highest-rated actors?\n",
    "\n",
    "#### 3.2 Which director-actor combination generates the highest revenue?\n",
    "\n",
    "#### 3.3. Do actors whose names start with a J tend to have higher ratings?\n",
    "\n",
    "#### 3.4 Are movies getting longer over time ? Use an appropriate plot to investigate. \n",
    "\n",
    "#### 3.5 Do movies with more votes get higher ratings ?\n"
   ]
  }
 ],
 "metadata": {
  "kernelspec": {
   "display_name": "Python 3 (ipykernel)",
   "language": "python",
   "name": "python3"
  },
  "language_info": {
   "codemirror_mode": {
    "name": "ipython",
    "version": 3
   },
   "file_extension": ".py",
   "mimetype": "text/x-python",
   "name": "python",
   "nbconvert_exporter": "python",
   "pygments_lexer": "ipython3",
   "version": "3.12.8"
  }
 },
 "nbformat": 4,
 "nbformat_minor": 5
}
