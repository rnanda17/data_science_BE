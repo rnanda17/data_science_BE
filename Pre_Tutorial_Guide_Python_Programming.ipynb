{
 "cells": [
  {
   "cell_type": "markdown",
   "metadata": {
    "jp-MarkdownHeadingCollapsed": true
   },
   "source": [
    "# 📘 Introduction to Python Programming and Pandas (Pre-Tutorial Guide)\n",
    "\n",
    "Welcome to the Data Science course!\n",
    "\n",
    "This notebook is designed to give you a **gentle introduction to Python programming** and an **overview of basic data analysis using Pandas**. It is intended to help you get started with the tools and concepts you’ll be using throughout the course.\n",
    "\n",
    "\n",
    "## 🗓️ When to Complete This\n",
    "\n",
    "You are expected to go through and understand this notebook **during the first week of the course i.e. 7-11 April**. During the first tutorial on 15th April, you’ll solve hands-on exercises from another tutorial that build on the concepts introduced in this notebook and in the assigned DataCamp sessions.\n",
    "\n",
    "This notebooks is **not part of the formal teaching time** and contains **no exercises** or assessments. It is meant to be solved as a take-home exercise during the first week of the course.\n",
    "\n",
    "\n",
    "## 📚 What This Notebook Covers\n",
    "\n",
    "- Basic Python syntax (variables, data types, conditionals, loops, functions)\n",
    "- Working with lists and dictionaries\n",
    "- Reading and exploring data with Pandas\n",
    "- Accessing and querying data with Pandas\n",
    "\n",
    "No prior programming experience is required — this notebook is beginner-friendly and interactive.\n",
    "\n",
    "## ✅ What You Need to Do\n",
    "\n",
    "1. **Work through this notebook at your own pace.** Try out the code examples, and make sure you understand what each line is doing.\n",
    "2. **Complete the assigned DataCamp sessions** listed on the canvas platform. These will reinforce what you learn here.\n",
    "3. **Bring your questions to the lecture or tutorial session!** The tutorial will focus on solving problems using what you’ve learned, so make sure you’re familiar with the basics beforehand.\n",
    "\n",
    "> 💡 Tip: Feel free to experiment with the code as you go! Modify examples, try new things, and make mistakes — it’s the best way to learn.\n",
    "\n",
    "<br>\n",
    "<br>\n",
    "\n",
    "\n",
    "**Note that programming follows a different approach compared to other disciplines or courses. Programming isn't learned by reading books and expecting to know everything, but rather by putting it into practice. It is a highly iterative learning process. Even the most experienced programmers get stuck all the time and then have to consult the documentation of the used programming libraries (e.g., `pandas`), turn to online communities like `StackOverflow`, or ask `ChatGPT`. When you use such online resources, MAKE SURE THAT YOU UNDERSTAND WHY YOU DO WHAT YOU DO. For example, when using ChatGPT, then ask it to explain the outputs to you. If you don't do this, your learnings from this course will be very limited.**"
   ]
  },
  {
   "cell_type": "markdown",
   "metadata": {},
   "source": [
    "# Using Notebooks\n",
    "\n",
    "Notebooks are a great way to write and share code. They are interactive documents that combine code, text, images, and other media. In this course, we will use notebooks to write our code and share our results.\n",
    "\n",
    "A notebook is made up of cells. Each cell can be either a code cell or a text cell. A code cell contains code that can be executed. A text cell contains text that can be formatted using [Markdown](https://colab.research.google.com/notebooks/markdown_guide.ipynb). You can run a cell by pressing `Shift+Enter` or by clicking the `Run` button next to the cell."
   ]
  },
  {
   "cell_type": "markdown",
   "metadata": {},
   "source": [
    "This is a text cell. You can edit it by double-clicking on it. You can format the text using Markdown. For example, you can make text bold or italic. You can also create headings, lists, links, images, and more. \n",
    "\n",
    "**You can find a Markdown tutorial here: https://colab.research.google.com/notebooks/markdown_guide.ipynb** \n"
   ]
  },
  {
   "cell_type": "code",
   "execution_count": null,
   "metadata": {},
   "outputs": [],
   "source": [
    "# This is a code cell with a comment. Comments are lines that start with a # and are ignored by the Python interpreter.\n",
    "print(\"Hello, World!\")"
   ]
  },
  {
   "cell_type": "markdown",
   "metadata": {},
   "source": [
    "After you run a code cell, the output will be displayed below it. Once you save the notebook, the output will be saved as well. This is a great way of sharing your results with others!\n",
    "\n",
    "You can clear the output by right clicking the output sell and selecting `Clear output`."
   ]
  },
  {
   "cell_type": "markdown",
   "metadata": {},
   "source": [
    "## Python Basics: Variables, Data Types and Operators\n",
    "\n",
    "In Python, variables can store data of different types such as integers, floats, and strings. Here are some quick examples:"
   ]
  },
  {
   "cell_type": "markdown",
   "metadata": {},
   "source": [
    "In Python, we can store data in variables. A variable is a name that refers to a value. For example, we can create a variable called `price` and assign it the value `15`:"
   ]
  },
  {
   "cell_type": "code",
   "execution_count": null,
   "metadata": {},
   "outputs": [],
   "source": [
    "price = 15"
   ]
  },
  {
   "cell_type": "markdown",
   "metadata": {},
   "source": [
    "Variables in Python are dynamically typed. This means that we don't need to specify the type of the variable when we create it. Python will automatically infer the type of the variable based on the value that we assign to it. For example, if we assign the value `15` to the variable `price`, Python will infer that the type of the variable is `int` (integer). If we assign the value `15.5` to the variable `price`, Python will infer that the type of the variable is `float` (floating point number)."
   ]
  },
  {
   "cell_type": "code",
   "execution_count": null,
   "metadata": {},
   "outputs": [],
   "source": [
    "# Integers are numbers without decimal point.\n",
    "price = 15\n",
    "print(type(price))\n",
    "\n",
    "# Floats are numbers with decimal point.\n",
    "\n",
    "price = 15.5\n",
    "print(type(price))"
   ]
  },
  {
   "cell_type": "markdown",
   "metadata": {},
   "source": [
    "By default, Python has the following data types: Numbers, strings, booleans, lists, tuples, and dictionaries.\n",
    "\n",
    "Numeric data types are used to store numbers. Python supports two types of numeric data types: integers and floats. Integers are whole numbers, while floats are numbers with a decimal point."
   ]
  },
  {
   "cell_type": "markdown",
   "metadata": {},
   "source": [
    "You can perform many operations with numeric variables: Addition, Subtraction, Multiplication, Power, Division, and Modulo on Integers and Floats.\n",
    "\n",
    "Let's try to write an example for each of these operation in the following cell with a new variable called `amount`"
   ]
  },
  {
   "cell_type": "code",
   "execution_count": null,
   "metadata": {},
   "outputs": [],
   "source": [
    "amount = 20"
   ]
  },
  {
   "cell_type": "code",
   "execution_count": null,
   "metadata": {},
   "outputs": [],
   "source": [
    "# Addition\n",
    "print(amount + 10)\n",
    "\n",
    "# Subtraction\n",
    "print(amount - 10)\n",
    "\n",
    "# Multiplication\n",
    "print(amount * 10)\n",
    "\n",
    "# Division\n",
    "print(amount / 10)\n",
    "\n",
    "# Power\n",
    "print(amount ** 2)\n",
    "\n",
    "# Modulo\n",
    "print(amount % 10)"
   ]
  },
  {
   "cell_type": "markdown",
   "metadata": {},
   "source": [
    "## Strings\n",
    "\n",
    "Strings are used to store text. Strings are created by enclosing characters in quotes. For example, we can create a string variable called `name` and assign it the value `\"John\"`"
   ]
  },
  {
   "cell_type": "code",
   "execution_count": null,
   "metadata": {},
   "outputs": [],
   "source": [
    "name = \"John\"\n",
    "print(name)"
   ]
  },
  {
   "cell_type": "markdown",
   "metadata": {},
   "source": [
    "You can use both single quotes (`'`) and double quotes (`\"`) to create strings. However, you must use the same type of quotes to start and end the string. For example, the following code will produce an error:"
   ]
  },
  {
   "cell_type": "code",
   "execution_count": null,
   "metadata": {},
   "outputs": [],
   "source": [
    "name = \"John'"
   ]
  },
  {
   "cell_type": "code",
   "execution_count": null,
   "metadata": {},
   "outputs": [],
   "source": [
    "# Using quotes in a string\n",
    "print(\"John's bill is\", price)\n"
   ]
  },
  {
   "cell_type": "markdown",
   "metadata": {},
   "source": [
    "However, you must use the same type of quotes to start and end the string. The following code will produce an error. Can you explain why this error occurs?"
   ]
  },
  {
   "cell_type": "code",
   "execution_count": null,
   "metadata": {},
   "outputs": [],
   "source": [
    "# What happens if you use single quotes instead?\n",
    "print('John's bill is', price)"
   ]
  },
  {
   "cell_type": "markdown",
   "metadata": {},
   "source": [
    "**Strings are sequences of characters. You can access individual characters using the square brackets (`[]`) operator. Note that the first character has index `0`:**"
   ]
  },
  {
   "cell_type": "code",
   "execution_count": null,
   "metadata": {},
   "outputs": [],
   "source": [
    "# Printing the first character of a string\n",
    "print(name[0])\n",
    "# Printing the last character of a string\n",
    "print(name[-1])"
   ]
  },
  {
   "cell_type": "markdown",
   "metadata": {},
   "source": [
    "You can also access substrings using the square brackets (`[]`) operator. The syntax is `string[start:end]`, where `start` is the index of the first character in the substring and `end` is the index of the first character after the substring. This operation is called **slicing**. Note that the character at index `end` is not included in the substring:"
   ]
  },
  {
   "cell_type": "code",
   "execution_count": null,
   "metadata": {},
   "outputs": [],
   "source": [
    "full_name = \"Marcus Aurelius Antoninus\"\n",
    "print(\"The first name is:\", full_name[0:6])\n",
    "# Now use slicing to print the middle and last name\n",
    "print(\"The middle name is:\", full_name[7:15])\n",
    "print(\"The last name is:\", full_name[16:])"
   ]
  },
  {
   "cell_type": "markdown",
   "metadata": {},
   "source": [
    "## Booleans\n",
    "\n",
    "Booleans are used to store logical values. In Python, booleans are `bool` type. Booleans are created by using the `True` and `False` keywords:"
   ]
  },
  {
   "cell_type": "code",
   "execution_count": null,
   "metadata": {},
   "outputs": [],
   "source": [
    "a = True\n",
    "print(type(a))"
   ]
  },
  {
   "cell_type": "markdown",
   "metadata": {},
   "source": [
    "Booleans are the result of logical operations. For example, you can use the `==` operator to check if two variables are equal.\n",
    "\n",
    "Booleans can also be used in conditional statements. We will cover this later.\n",
    "\n",
    "Now let's run the following statements and check if the output is correct or not for each condition."
   ]
  },
  {
   "cell_type": "code",
   "execution_count": null,
   "metadata": {},
   "outputs": [],
   "source": [
    "print(name == \"John\")\n",
    "print(price > 10)\n",
    "print(1 != 1)"
   ]
  },
  {
   "cell_type": "markdown",
   "metadata": {},
   "source": [
    "## Lists\n",
    "\n",
    "Lists are used to store a sequence of values. Lists are created by enclosing values in square brackets (`[]`). For example, we can create a list variable called `prices` and assign it the values `[15, 20, 25]`:\n"
   ]
  },
  {
   "cell_type": "code",
   "execution_count": null,
   "metadata": {},
   "outputs": [],
   "source": [
    "prices = [15, 20, 25]\n",
    "print(prices)"
   ]
  },
  {
   "cell_type": "markdown",
   "metadata": {},
   "source": [
    "Lists can also store variables and values of different types. Let's create a list called , `x` which contains variables and values of different data types."
   ]
  },
  {
   "cell_type": "code",
   "execution_count": null,
   "metadata": {},
   "outputs": [],
   "source": [
    "x = [10, name, \"abc\", True, 3.14]\n",
    "print(x)"
   ]
  },
  {
   "cell_type": "markdown",
   "metadata": {},
   "source": [
    "**You can access elements of a list using the square brackets (`[]`) operator. Note that the first element has index `0`. Slicing also works with lists. What do the following two statements do ?**"
   ]
  },
  {
   "cell_type": "code",
   "execution_count": null,
   "metadata": {},
   "outputs": [],
   "source": [
    "print(x[-1])\n",
    "print(x[1:3])"
   ]
  },
  {
   "cell_type": "markdown",
   "metadata": {},
   "source": [
    "You can use the `append()` method to add elements to the list. For instance, if we want to add the integer `100` to the list in the last position, then we will use the following statement."
   ]
  },
  {
   "cell_type": "code",
   "execution_count": null,
   "metadata": {},
   "outputs": [],
   "source": [
    "x.append(100)\n",
    "print(x)"
   ]
  },
  {
   "cell_type": "markdown",
   "metadata": {},
   "source": [
    "You can remove elements from a list using the remove() method. Let's remove the element `\"abc\"` from the list `x`."
   ]
  },
  {
   "cell_type": "code",
   "execution_count": null,
   "metadata": {},
   "outputs": [],
   "source": [
    "x.remove(\"abc\")\n",
    "print(x)"
   ]
  },
  {
   "cell_type": "markdown",
   "metadata": {},
   "source": [
    "To add an element to a specific position in a list, you can use the insert() method. For instance, let's insert the element `\"abc\"` again to the list in position `2` (remember the index in python always starts from 0, so position 2 is actually the `3rd` position."
   ]
  },
  {
   "cell_type": "code",
   "execution_count": null,
   "metadata": {},
   "outputs": [],
   "source": [
    "x.insert(2, \"abc\")\n",
    "print(x)"
   ]
  },
  {
   "cell_type": "markdown",
   "metadata": {},
   "source": [
    "You can change the value of an element in a list by using the square brackets (`[]`) operator. Let's change the value of the first element (`0`th position) to `-100`."
   ]
  },
  {
   "cell_type": "code",
   "execution_count": null,
   "metadata": {},
   "outputs": [],
   "source": [
    "x[0] = -100\n",
    "print(x)"
   ]
  },
  {
   "cell_type": "markdown",
   "metadata": {},
   "source": [
    "So, now `10` is replaced by `-100`."
   ]
  },
  {
   "cell_type": "markdown",
   "metadata": {},
   "source": [
    "## Dictionaries\n",
    "\n",
    "Dictionaries are used to store key-value pairs. Dictionaries are created by enclosing key-value pairs in curly brackets (`{}`). For example, we can create a dictionary variable called `menu` and assign it the following key-value pairs. These could indicate the price of each food item in the `menu`. "
   ]
  },
  {
   "cell_type": "code",
   "execution_count": null,
   "metadata": {},
   "outputs": [],
   "source": [
    "menu = {\"pizza\": 15, \"pasta\": 20, \"salad\": 10}\n",
    "print(menu)"
   ]
  },
  {
   "cell_type": "markdown",
   "metadata": {},
   "source": [
    "You can access the value of a key using the square brackets (`[]`) operator. If the key does not exist, you will get an error:"
   ]
  },
  {
   "cell_type": "code",
   "execution_count": null,
   "metadata": {},
   "outputs": [],
   "source": [
    "print(menu[\"pizza\"]) # prints the value (price) of the food item , i.e. pizza"
   ]
  },
  {
   "cell_type": "code",
   "execution_count": null,
   "metadata": {},
   "outputs": [],
   "source": [
    "print(menu[\"kebab\"]) # can you explain why you get an error when you run this?"
   ]
  },
  {
   "cell_type": "markdown",
   "metadata": {},
   "source": [
    "You can add new key-value pairs to a dictionary using the square brackets (`[]`) operator. If the key already exists, the value will be updated."
   ]
  },
  {
   "cell_type": "code",
   "execution_count": null,
   "metadata": {},
   "outputs": [],
   "source": [
    "menu[\"kebab\"] = 25\n",
    "menu[\"pasta\"] = 25\n",
    "print(menu)"
   ]
  },
  {
   "cell_type": "markdown",
   "metadata": {},
   "source": [
    "## Introduction to Functions\n",
    "\n",
    "Functions allow you to package code for reuse. \n",
    "\n",
    "## Built-in Functions\n",
    "\n",
    "Built-in functions are functions that are already defined in Python. For example, the `print()` function is a built-in function. You can find a list of all built-in functions in the [Python documentation](https://docs.python.org/3/library/functions.html).\n",
    "\n",
    "Let's check out some of the built-in functions in Python."
   ]
  },
  {
   "cell_type": "markdown",
   "metadata": {},
   "source": [
    "**TIP**: You can use the `help()` function to get more information about a function. For example, you can use `help(print)` to get more information about the `print()` function."
   ]
  },
  {
   "cell_type": "code",
   "execution_count": null,
   "metadata": {},
   "outputs": [],
   "source": [
    "help(print)"
   ]
  },
  {
   "cell_type": "markdown",
   "metadata": {},
   "source": [
    "### Type conversion functions\n",
    "\n",
    "Python has several built-in functions to convert data types. For example, you can use the `int()` function to convert a float to an integer. You can use the `str()` function to convert a number to a string. "
   ]
  },
  {
   "cell_type": "code",
   "execution_count": null,
   "metadata": {},
   "outputs": [],
   "source": [
    "price = 15\n",
    "print(float(price))"
   ]
  },
  {
   "cell_type": "code",
   "execution_count": null,
   "metadata": {},
   "outputs": [],
   "source": [
    "price = 18.75\n",
    "print(int(price)) #convert price to integer\n",
    "print(str(price)) #convert price to string"
   ]
  },
  {
   "cell_type": "markdown",
   "metadata": {},
   "source": [
    "### Sequence functions\n",
    "\n",
    "Python has several built-in functions to work with sequences. For example, you can use the `len()` function to get the length of a sequence.\n",
    "\n",
    "`sorted()` sorts a sequence. \n",
    "\n",
    "`max()` and `min()` can be used to get the maximum and minimum values in a sequence, while `sum()` can be used to get the sum of all the elements in a sequence.\n",
    "\n",
    "Let's create a list called `prices` and run some sequence functions on it and check the outputs."
   ]
  },
  {
   "cell_type": "code",
   "execution_count": null,
   "metadata": {},
   "outputs": [],
   "source": [
    "prices = [15, 5, 25, 30, 8, 50, 6, 14, 63, 10]"
   ]
  },
  {
   "cell_type": "code",
   "execution_count": null,
   "metadata": {},
   "outputs": [],
   "source": [
    "print(len(prices)) # length of the list\n",
    "print(max(prices)) # maximum value in the list\n",
    "print(min(prices)) # minimum value in the list\n",
    "print(sum(prices)) # sum of all elements in the list\n",
    "print(sorted(prices)) # sorting the list in ascending order\n",
    "print(sorted(prices, reverse=True)) # sorting the list in descending order"
   ]
  },
  {
   "cell_type": "markdown",
   "metadata": {},
   "source": [
    "## Libraries\n",
    "\n",
    "Libraries are collections of functions that extend the functionality of Python. For example, the `math` library contains functions to perform mathematical operations. You can import a library using the `import` keyword. For example, we can import the `math` library using the following code:"
   ]
  },
  {
   "cell_type": "code",
   "execution_count": null,
   "metadata": {},
   "outputs": [],
   "source": [
    "import math\n",
    "\n",
    "print(math.pi)"
   ]
  },
  {
   "cell_type": "markdown",
   "metadata": {},
   "source": [
    "You can import specific functions from a library using the `from` keyword. For example, we can import the `sqrt()` function from the `math` library using the following code:"
   ]
  },
  {
   "cell_type": "code",
   "execution_count": null,
   "metadata": {},
   "outputs": [],
   "source": [
    "from math import sqrt\n",
    "\n",
    "print(sqrt(25))"
   ]
  },
  {
   "cell_type": "markdown",
   "metadata": {},
   "source": [
    "## User-defined Functions\n",
    "\n",
    "Python allows you to create your own functions using the `def` keyword. Functions help organize code into reusable blocks, making your code easier to read and maintain.\n",
    "\n",
    "To return a value from a function, use the `return` keyword. If a function does not explicitly return a value, it will automatically return None.\n",
    "\n",
    "Even without a `return` statement, a function can still perform actions or computations internally.\n",
    "\n",
    "\n",
    "### Example\n",
    "\n",
    "Let's define a simple function named `square` that returns the square of a given number:"
   ]
  },
  {
   "cell_type": "code",
   "execution_count": null,
   "metadata": {},
   "outputs": [],
   "source": [
    "# Defining a simple function using def\n",
    "def square(x):   # this is a function defintion\n",
    "    return x * x"
   ]
  },
  {
   "cell_type": "markdown",
   "metadata": {},
   "source": [
    "### Important: Function Call\n",
    "\n",
    "Defining a function alone does not execute it. You need to explicitly call the function by writing its name followed by parentheses ( ) and passing any required arguments:\n"
   ]
  },
  {
   "cell_type": "code",
   "execution_count": null,
   "metadata": {},
   "outputs": [],
   "source": [
    "square(5)  # this is a function call where the function gets executed"
   ]
  },
  {
   "cell_type": "markdown",
   "metadata": {},
   "source": [
    "### Lambda Functions\n",
    "\n",
    "Lambda functions (also called anonymous functions) in Python are small, inline functions defined using the `lambda` keyword. Unlike user-defined functions defined using def, lambda functions don't have a name and typically consist of a single expression.\n",
    "\n",
    "The syntax of `lambda` function is as follows:\n",
    "\n",
    "`lambda arguments: expression`"
   ]
  },
  {
   "cell_type": "code",
   "execution_count": null,
   "metadata": {},
   "outputs": [],
   "source": [
    "# Lambda function example to square a number\n",
    "square_lambda = lambda x: x * x          #function defintion\n",
    "\n",
    "square_lambda(6)  # function call"
   ]
  },
  {
   "cell_type": "markdown",
   "metadata": {},
   "source": [
    "### Conditionals\n",
    "\n",
    "Conditionals are used to execute code only if a certain condition is true. In Python, we use the `if` statement to create conditionals."
   ]
  },
  {
   "cell_type": "code",
   "execution_count": null,
   "metadata": {},
   "outputs": [],
   "source": [
    "price = 15\n",
    "\n",
    "if price > 10:\n",
    "    print(\"The price is greater than 10\")"
   ]
  },
  {
   "cell_type": "markdown",
   "metadata": {},
   "source": [
    "You can have multiple conditions in an `if` statement. You can use the `elif` keyword to add more conditions. You can use the `else` keyword to execute code if none of the conditions are true."
   ]
  },
  {
   "cell_type": "code",
   "execution_count": null,
   "metadata": {},
   "outputs": [],
   "source": [
    "price = 10\n",
    "\n",
    "if price > 10:\n",
    "    print(\"The price is greater than 10\")\n",
    "elif price < 10:\n",
    "    print(\"The price is less than 10\")\n",
    "else:\n",
    "    print(\"The price is exactly 10\")"
   ]
  },
  {
   "cell_type": "markdown",
   "metadata": {},
   "source": [
    "## Loops\n",
    "\n",
    "Loops are used to execute a block of code multiple times. `For` loops are used to iterate over a sequence (list, tuple, string, dictionary, set, or range). For example, we can use a for loop to print all the elements in a list:"
   ]
  },
  {
   "cell_type": "code",
   "execution_count": null,
   "metadata": {},
   "outputs": [],
   "source": [
    "\n",
    "list_l1 = [-100, 'John', 'abc', True, 3.14, 100]\n",
    "\n",
    "\n",
    "for k in list_l1:\n",
    "    print(k)\n",
    "\n"
   ]
  },
  {
   "cell_type": "markdown",
   "metadata": {},
   "source": [
    "In this example:\n",
    "\n",
    "- We have a list `list_l1` containing elements of different data types: integer (-100, 100), strings ('John', 'abc'), boolean (True), and float (3.14).\n",
    "\n",
    "- The `for` loop iterates over each element in the list.\n",
    "\n",
    "- During each iteration, the current element is assigned to the loop variable `k`, and `print(k)` outputs the current value.\n",
    "\n",
    "\n",
    "Similarly, we can use `for` loop to iterate over dictionaries. See the example below and then the explanation."
   ]
  },
  {
   "cell_type": "code",
   "execution_count": null,
   "metadata": {},
   "outputs": [],
   "source": [
    "dict_menu = {\"pizza\": 15, \"pasta\": 20, \"salad\": 10}\n",
    "for item, price in dict_menu.items():\n",
    "    print(item, price)\n"
   ]
  },
  {
   "cell_type": "markdown",
   "metadata": {},
   "source": [
    "In this example:\n",
    "\n",
    "- We have a dictionary named `dict_menu`, where each key is a food item (like \"pizza\") and its corresponding value is the price.\n",
    "\n",
    "- The method `items()` is used to iterate over key-value pairs.\n",
    "\n",
    "- In each iteration, the loop assigns the key to `item` and the value to `price`.\n",
    "\n",
    "- `print(item, price)` displays each food `item` (key) and its `price` (value)."
   ]
  },
  {
   "cell_type": "markdown",
   "metadata": {},
   "source": [
    "# Getting Started with Pandas\n",
    "\n",
    "**Pandas** is not a built-in Python library, so you'll need to install it before using it. If you're using **Google Colab**, Pandas comes pre-installed. However, if you're working on your local computer, you can install it using Python's package manager, `pip`.\n",
    "\n",
    "Run the following command directly in your notebook cell to install Pandas:\n",
    "\n",
    "```python\n",
    "!pip install pandas\n",
    "```\n",
    "\n",
    "- The `!` character instructs the notebook to execute this command directly in the terminal.\n",
    "- `pip` is Python's built-in package manager, commonly used for installing Python libraries. Typically, you install a library with the command `pip install <package_name>`.\n",
    "\n",
    "Once Pandas is installed, you can import it in your notebook as follows:\n",
    "\n",
    "```python\n",
    "import pandas as pd\n",
    "```\n",
    "\n",
    "Here, `pd` is the standard alias for Pandas, commonly used because it shortens the code and clearly identifies Pandas functions and methods within your scripts.\n"
   ]
  },
  {
   "cell_type": "markdown",
   "metadata": {},
   "source": [
    "## Basic Definitions\n",
    "\n",
    "The two primary data structures in **Pandas** are: **Series** and **DataFrame**.\n",
    "\n",
    "### Series\n",
    "\n",
    "A `Series` is a one-dimensional labeled array capable of holding any data type (integers, strings, floats, Python objects, etc.). You can think of it as a single column in a spreadsheet or table.\n",
    "\n",
    "\n",
    "```python\n",
    "pandas.Series(data=None, index=None, ...)\n",
    "```\n",
    "\n",
    "- **`data`**: The data to store in the Series (e.g., a list, array, or scalar value).\n",
    "- **`index`**: Optional labels for each element in the Series. If not specified, Pandas will automatically assign a numeric index starting from 0.\n",
    "\n",
    "Example:\n",
    "```python\n",
    "import pandas as pd\n",
    "\n",
    "data = [10, 20, 30]\n",
    "labels = ['a', 'b', 'c']\n",
    "\n",
    "series = pd.Series(data, index=labels)\n",
    "print(series)\n",
    "```\n",
    "\n",
    "**Output:**\n",
    "```\n",
    "a    10\n",
    "b    20\n",
    "c    30\n",
    "dtype: int64\n",
    "```"
   ]
  },
  {
   "cell_type": "code",
   "execution_count": null,
   "metadata": {},
   "outputs": [],
   "source": [
    "import pandas as pd\n",
    "\n",
    "data = [10, 20, 30]\n",
    "labels = ['a', 'b', 'c']\n",
    "\n",
    "series = pd.Series(data, index=labels)\n",
    "print(series)"
   ]
  },
  {
   "cell_type": "markdown",
   "metadata": {},
   "source": [
    "### DataFrame\n",
    "\n",
    "A `DataFrame` is a two-dimensional, tabular data structure made up of multiple `Series` that share a common index. You can think of it like an Excel spreadsheet or SQL table."
   ]
  },
  {
   "cell_type": "markdown",
   "metadata": {},
   "source": [
    "### Example: Creating a DataFrame from a Dictionary\n",
    "\n",
    "Let's say we run a fruit stand that sells **apples** and **oranges**. Each row in our data will represent a customer's purchase — how many apples and oranges they bought.\n",
    "\n",
    "We can organize this data as a dictionary where:\n",
    "- Each **key** represents a fruit (a column in the table).\n",
    "- Each **value** is a list of quantities sold to each customer.\n",
    "\n",
    "Here's how we can create a DataFrame from that dictionary:\n",
    "\n",
    "```python\n",
    "import pandas as pd\n",
    "\n",
    "# Dictionary where keys are column names and values are lists of data\n",
    "fruit_data = {\n",
    "    \"apples\": [3, 2, 0, 1], \n",
    "    \"oranges\": [0, 3, 7, 2]\n",
    "}\n",
    "\n",
    "# Create DataFrame and assign custom row labels for each customer\n",
    "purchases = pd.DataFrame(fruit_data, index=[\"Customer 1\", \"Customer 2\", \"Customer 3\", \"Customer 4\"])\n",
    "\n",
    "print(purchases)\n",
    "```\n",
    "\n",
    "**Output:**\n",
    "```\n",
    "            apples  oranges\n",
    "Customer 1       3        0\n",
    "Customer 2       2        3\n",
    "Customer 3       0        7\n",
    "Customer 4       1        2\n",
    "```\n",
    "\n",
    "This table (DataFrame) clearly shows how many apples and oranges each customer bought, and it's now in a format that's easy to analyze using Pandas.\n"
   ]
  },
  {
   "cell_type": "code",
   "execution_count": null,
   "metadata": {},
   "outputs": [],
   "source": [
    "fruit_data = {\n",
    "    \"apples\": [3, 2, 0, 1], \n",
    "    \"oranges\": [0, 3, 7, 2]\n",
    "}\n",
    "\n",
    "purchases = pd.DataFrame(fruit_data, index=[\"Customer 1\", \"Customer 2\", \"Customer 3\", \"Customer 4\"])\n",
    "\n",
    "purchases"
   ]
  },
  {
   "cell_type": "markdown",
   "metadata": {},
   "source": [
    "### How Did That Work?\n",
    "\n",
    "When creating a `DataFrame` from a dictionary, each **key** becomes a **column name**, and each **value** (usually a list or array) becomes the **column data**.\n",
    "\n",
    "Here’s the general constructor for a DataFrame:\n",
    "\n",
    "```python\n",
    "pandas.DataFrame(data=None, index=None, columns=None, dtype=None, ...)\n",
    "```\n",
    "\n",
    "#### Explanation of Parameters:\n",
    "\n",
    "- **`data`**: The input data to populate the DataFrame. It can be:\n",
    "  - A dictionary (like in our fruit example)\n",
    "  - A list of lists\n",
    "  - A NumPy array\n",
    "  - Another DataFrame\n",
    "\n",
    "- **`index`**: (Optional) Custom row labels. If not provided, Pandas uses default integer indices starting from 0.\n",
    "\n",
    "- **`columns`**: (Optional) Column labels. If you're passing a dictionary (which already has keys as column names), you typically don't need to set this. \n",
    "\n",
    "- **`dtype`**: (Optional) The data type to force for all columns. Use this if you want to convert all data to a specific type (e.g., `float`, `int`, `str`).\n",
    "\n",
    "This flexibility is one of the reasons Pandas is so powerful for working with structured data.\n"
   ]
  },
  {
   "cell_type": "markdown",
   "metadata": {},
   "source": [
    "# Loading DataFrames\n",
    "\n",
    "Often, you won't be creating DataFrames from scratch. Instead, you will be loading them from files. Pandas can read a variety of file types using its `pd.read_` functions. CSV files are one of the most common, so we will start there.\n",
    "\n",
    "\n",
    "We will be working with the IMDB Movie Dataset which has already been uploaded on a GitHub repository at this URL: https://raw.githubusercontent.com/rnanda17/data_science_BE/refs/heads/main/IMDB-Movie-Data.csv . Pandas is able to access public URL link directly and load the CSV files as DataFrames in the Python Notebook. But please note that these should be raw files only."
   ]
  },
  {
   "cell_type": "markdown",
   "metadata": {},
   "source": [
    "## Loading CSV Files\n",
    "\n",
    "CSV stands for \"comma-separated values\". CSV files are a common way to store tabular data. They are plain text files with a specific structure. Each line of the file is a data record. Each record consists of one or more fields, separated by commas. The first line of the file usually contains the names of each column.\n",
    "\n",
    "With CSV files, all you need is a single line of code:\n",
    "`pandas.read_csv(filepath)`\n",
    "\n",
    "There are many other arguments you can pass to `read_csv`, but we will only use the `filepath` for now.\n",
    "\n",
    "Use the help function to learn more about `read_csv`:\n",
    "\n",
    "```help(pd.read_csv)``` or ```pd.read_csv?```"
   ]
  },
  {
   "cell_type": "code",
   "execution_count": null,
   "metadata": {},
   "outputs": [],
   "source": [
    "#The default value is index_col=None \n",
    "movies_df = pd.read_csv(\"https://raw.githubusercontent.com/rnanda17/data_science_BE/refs/heads/main/IMDB-Movie-Data.csv\")\n",
    "movies_df\n"
   ]
  },
  {
   "cell_type": "code",
   "execution_count": null,
   "metadata": {},
   "outputs": [],
   "source": [
    "#If we set index_col=0, we're explicitly stating to treat the first column as the index:\n",
    "movies_df = pd.read_csv(\"https://raw.githubusercontent.com/rnanda17/data_science_BE/refs/heads/main/IMDB-Movie-Data.csv\", index_col=0)\n",
    "\n",
    "movies_df"
   ]
  },
  {
   "cell_type": "markdown",
   "metadata": {},
   "source": [
    "### Note about other ways to work with CSV files with Python notebooks\n",
    "\n",
    "If you are not working on Colab, then you can also download the dataset from the URL: https://github.com/rnanda17/data_science_BE/blob/main/IMDB-Movie-Data.csv. \n",
    "\n",
    "Let's first download and import the dataset we will be working with. First, download the file `IMDB-Movie-Data.csv` from Canvas. \n",
    "\n",
    "Then, upload it to your Colab notebook by clicking on the folder icon on the left side of the screen. Click on the `Upload` button and select the file. You should see the file in the file explorer on the left side of the screen. If you right click on the file, you can copy its path by clicking on `Copy Path`.\n",
    "\n",
    "You can also sync your Google Drive with Colab. To do this, click on the folder icon on the left side of the screen. Click on the `Mount Drive` button. You will be prompted to authenticate your Google account. Once you do that, you will be able to access your Google Drive files from Colab. You can upload the file to your Google Drive and then access it from Colab.\n",
    "\n",
    "If you are using a local Jupyter notebook, you can just save the file in the same directory as your notebook."
   ]
  },
  {
   "cell_type": "markdown",
   "metadata": {},
   "source": [
    "# Exploring your DataFrame\n",
    "\n",
    "Now let's learn some ways to explore your DataFrame. First, let's see some methods for checking the data within the DataFrame."
   ]
  },
  {
   "cell_type": "markdown",
   "metadata": {},
   "source": [
    "## Accessing Data\n",
    "\n",
    "`DataFrame.head(n)` returns the first n rows of the DataFrame."
   ]
  },
  {
   "cell_type": "code",
   "execution_count": null,
   "metadata": {},
   "outputs": [],
   "source": [
    "movies_df.head(5)"
   ]
  },
  {
   "cell_type": "markdown",
   "metadata": {},
   "source": [
    "`DataFrame.tail(n)` returns the last n rows of the DataFrame."
   ]
  },
  {
   "cell_type": "code",
   "execution_count": null,
   "metadata": {},
   "outputs": [],
   "source": [
    "movies_df.tail(5)"
   ]
  },
  {
   "cell_type": "markdown",
   "metadata": {},
   "source": [
    "### Accessing Columns\n",
    "\n",
    "You can access a specific column by using the following syntax:"
   ]
  },
  {
   "cell_type": "code",
   "execution_count": null,
   "metadata": {},
   "outputs": [],
   "source": [
    "movies_df[\"Title\"]\n",
    "# Or\n",
    "movies_df.Title"
   ]
  },
  {
   "cell_type": "markdown",
   "metadata": {},
   "source": [
    "The square brackets + string with column name syntax works for any column name.\n",
    "\n",
    "The `.` notation only works if the column name is a valid Python variable name. For instance, `df.Movie Title` will not work, but `df.movie_title` will. \n",
    "\n",
    "To make sure your code always works, you can use the first one with square brackets + string syntax."
   ]
  },
  {
   "cell_type": "markdown",
   "metadata": {},
   "source": [
    "### Accessing Rows\n",
    "\n",
    "You can access a specific row in two ways:\n",
    "\n",
    "- `df.loc` - locates by index name (row label). In our case, the index is the ranking of the movie.\n",
    "- `df.iloc` - locates by numerical index (row number).\n",
    "\n",
    "Note that `df.loc` and `df.iloc` are not methods, but attributes. This means that you don't use parentheses to call them. You just use them like this: `df.loc[1]` or `df.iloc[1]`.\n",
    "\n",
    "The arguments for `df.loc` can also be a list of indices. For example, `df.loc[[1, 2, 3]]` will return the top three ranked movies.\n",
    "\n",
    "Remember that DataFrame indices can also be strings."
   ]
  },
  {
   "cell_type": "code",
   "execution_count": null,
   "metadata": {},
   "outputs": [],
   "source": [
    "# Returns the movie with Rank 1\n",
    "movies_df.loc[1]"
   ]
  },
  {
   "cell_type": "code",
   "execution_count": null,
   "metadata": {},
   "outputs": [],
   "source": [
    "# Returns the movie in the first row\n",
    "movies_df.iloc[0]"
   ]
  },
  {
   "cell_type": "markdown",
   "metadata": {},
   "source": [
    "`df.loc` and `df.iloc` also work for accessing columns. For example, `df.loc[1, 'Title']` will return the title of the movie with index 1.\n",
    "\n",
    "You can access all rows for a specific column by using `:` as the first argument. For example, `df.loc[:, 'Title']` will return all the titles."
   ]
  },
  {
   "cell_type": "markdown",
   "metadata": {},
   "source": [
    "## Conditional Selection\n",
    "\n",
    "Pandas makes it easy to select rows based on a condition. For example, if we want to select all the movies with a rating of 8.5 or higher, we can do the following:"
   ]
  },
  {
   "cell_type": "code",
   "execution_count": null,
   "metadata": {},
   "outputs": [],
   "source": [
    "movies_df[movies_df[\"Rating\"] >= 8.5]"
   ]
  },
  {
   "cell_type": "markdown",
   "metadata": {},
   "source": [
    "You can combine multiple conditions using the operators `&` (and) and `|` (or). For example, if we want to select all the movies with a rating of 8.5 that came out after 2009, we can do the following:"
   ]
  },
  {
   "cell_type": "code",
   "execution_count": null,
   "metadata": {},
   "outputs": [],
   "source": [
    "movies_df[(movies_df[\"Rating\"] >= 8.5) & (movies_df[\"Year\"] >= 2010)]"
   ]
  },
  {
   "cell_type": "markdown",
   "metadata": {},
   "source": [
    "### Querying\n",
    "\n",
    "You can also use the `DataFrame.query` method to select rows based on conditions. For example, if we want to select all the movies with a rating of 8.5 or higher that were released after 2010, we can do the following:"
   ]
  },
  {
   "cell_type": "code",
   "execution_count": null,
   "metadata": {},
   "outputs": [],
   "source": [
    "movies_df.query(\"Rating >= 8.5 and Year > 2010\")"
   ]
  },
  {
   "cell_type": "markdown",
   "metadata": {},
   "source": [
    "Both methods work the same way. The only difference is that `DataFrame.query` is more convenient to use when you have a lot of conditions because the syntax is more compact.\n",
    "\n",
    "You can find a nice list of examples of query examples https://sparkbyexamples.com/pandas/pandas-dataframe-query-examples/ .\n"
   ]
  },
  {
   "cell_type": "markdown",
   "metadata": {},
   "source": [
    "## Counting\n",
    "\n",
    "There are different levels of counting we can do with Pandas. \n",
    "\n",
    "We can count the number of rows in a DataFrame, the number of unique values in a column, the number of times a specific value appears in a column, and even count values within a group.\n",
    "\n",
    "### Counting Rows\n",
    "\n",
    "The simplest way to count the number of rows in a DataFrame is to use the `len()` function. This function works on any Python object, not just DataFrames.\n",
    "\n",
    "We can also use the `shape` attribute of a DataFrame, which returns a tuple with the number of rows and columns in the DataFrame."
   ]
  },
  {
   "cell_type": "code",
   "execution_count": null,
   "metadata": {},
   "outputs": [],
   "source": [
    "print(len(movies_df))\n",
    "print(movies_df.shape)"
   ]
  }
 ],
 "metadata": {
  "kernelspec": {
   "display_name": "Python 3 (ipykernel)",
   "language": "python",
   "name": "python3"
  },
  "language_info": {
   "codemirror_mode": {
    "name": "ipython",
    "version": 3
   },
   "file_extension": ".py",
   "mimetype": "text/x-python",
   "name": "python",
   "nbconvert_exporter": "python",
   "pygments_lexer": "ipython3",
   "version": "3.12.8"
  }
 },
 "nbformat": 4,
 "nbformat_minor": 4
}
