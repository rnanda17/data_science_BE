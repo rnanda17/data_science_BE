{
 "cells": [
  {
   "cell_type": "markdown",
   "metadata": {
    "id": "ciBcSGyzJ70i"
   },
   "source": [
    "# Tutorial 4: Numpy, Correlation and Exploratory Data Analysis"
   ]
  },
  {
   "cell_type": "markdown",
   "metadata": {},
   "source": [
    "### Learning Goals:\n",
    "After completing this notebook you will be able to\n",
    "\n",
    "- Understand and manipulate NumPy arrays for numerical computations.  \n",
    "- Perform sorting, reshaping, and aggregation operations using NumPy.  \n",
    "- Analyze relationships between variables using correlation techniques.  \n",
    "- Conduct basic exploratory data analysis (EDA) to derive insights from data.\n"
   ]
  },
  {
   "cell_type": "markdown",
   "metadata": {
    "id": "N-v9pU2Vdzby"
   },
   "source": [
    "### Numpy: Overview\n",
    "\n",
    "- Numpy is based on numpy arrays, and it is similar to Python list. The difference is numpy arrays are faster and more functional.\n",
    "- Unlike Python lists, numpy arrays must be homogeneous, that means, all elements in the array must be the same data type.\n",
    "- [Official documentation at numpy.org](https://numpy.org/doc/stable/user/index.html#user)\n",
    "- [The absolute basics for beginners ](https://numpy.org/doc/stable/user/absolute_beginners.html)\n"
   ]
  },
  {
   "cell_type": "code",
   "execution_count": 1,
   "metadata": {
    "id": "331AO2y3b9KW"
   },
   "outputs": [],
   "source": [
    "#import numpy\n",
    "import numpy as np"
   ]
  },
  {
   "cell_type": "markdown",
   "metadata": {
    "id": "zbtE0VTvUZG6"
   },
   "source": [
    "A Numpy array is a central data structure of the NumPy library. To create a NumPy array, you can use the function **np.array()**."
   ]
  },
  {
   "cell_type": "code",
   "execution_count": 2,
   "metadata": {
    "colab": {
     "base_uri": "https://localhost:8080/"
    },
    "id": "W3XmO8tufano",
    "outputId": "d39ab7d3-99f1-43fd-c0c4-0714fae0893d"
   },
   "outputs": [
    {
     "name": "stdout",
     "output_type": "stream",
     "text": [
      "List: [0, 1, 2, 3]\n",
      "Numpy array: [0 1 2 3]\n",
      "<class 'list'>\n",
      "<class 'numpy.ndarray'>\n"
     ]
    }
   ],
   "source": [
    "# python list\n",
    "list_l1 = [0, 1, 2, 3]\n",
    "\n",
    "# numpy array created from a list\n",
    "array_n = np.array(list_l1)\n",
    "\n",
    "print(\"List:\", list_l1)\n",
    "print(\"Numpy array:\", array_n)\n",
    "\n",
    "print(type(list_l1))\n",
    "print(type(array_n))"
   ]
  },
  {
   "cell_type": "code",
   "execution_count": 3,
   "metadata": {},
   "outputs": [
    {
     "name": "stdout",
     "output_type": "stream",
     "text": [
      "Numpy array:\n",
      "\n",
      " [[ 1  2  3  4]\n",
      " [ 5  6  7  8]\n",
      " [ 9 10 11 12]]\n",
      "\n",
      "First element of the array\n",
      "[1 2 3 4]\n"
     ]
    }
   ],
   "source": [
    "a = np.array([[1, 2, 3, 4], [5, 6, 7, 8], [9, 10, 11, 12]])\n",
    "print(\"Numpy array:\\n\\n\", a)\n",
    "\n",
    "# We can access the elements in the array using square brackets.\n",
    "print(\"\\nFirst element of the array\")\n",
    "print(a[0])"
   ]
  },
  {
   "cell_type": "markdown",
   "metadata": {
    "id": "fuls23n2fmqM"
   },
   "source": [
    "### Array vs Lists\n",
    "\n",
    "- Arrays and Lists might look similar but Numpy Arrays are much faster than lists. This allows faster operations. See an example below.\n"
   ]
  },
  {
   "cell_type": "code",
   "execution_count": 4,
   "metadata": {},
   "outputs": [
    {
     "name": "stdout",
     "output_type": "stream",
     "text": [
      "NumPy execution time: 0.0035619735717773438\n",
      "List execution time: 0.036775827407836914\n"
     ]
    }
   ],
   "source": [
    "import numpy as np\n",
    "import time\n",
    "from datetime import datetime\n",
    "\n",
    "\n",
    "# With NumPy\n",
    "arr = np.arange(1000000) #creates a numpy array with values from 0 to 999,999\n",
    "start = time.time() # the time in seconds since epoch (January 1, 1970 , 00:00:00 UTC), so this is current time\n",
    "#dt = datetime.fromtimestamp(start)  # current time in human readable format\n",
    "#print(dt)\n",
    "arr2 = arr * 2\n",
    "print(\"NumPy execution time:\", time.time() - start)\n",
    "\n",
    "# With List\n",
    "lst = list(range(1000000))\n",
    "start = time.time()\n",
    "lst2 = [x * 2 for x in lst]\n",
    "print(\"List execution time:\", time.time() - start)\n"
   ]
  },
  {
   "cell_type": "markdown",
   "metadata": {},
   "source": [
    "- NumPy supports vectorized operations, so you can operate on entire arrays without writing explicit loops."
   ]
  },
  {
   "cell_type": "code",
   "execution_count": 5,
   "metadata": {},
   "outputs": [
    {
     "data": {
      "text/plain": [
       "array([2, 4, 6])"
      ]
     },
     "execution_count": 5,
     "metadata": {},
     "output_type": "execute_result"
    }
   ],
   "source": [
    "# NumPy Array\n",
    "arr = np.array([1, 2, 3])\n",
    "arr * 2  # array([2, 4, 6])\n"
   ]
  },
  {
   "cell_type": "code",
   "execution_count": 6,
   "metadata": {},
   "outputs": [
    {
     "data": {
      "text/plain": [
       "[2, 4, 6]"
      ]
     },
     "execution_count": 6,
     "metadata": {},
     "output_type": "execute_result"
    }
   ],
   "source": [
    "# Python List\n",
    "lst = [1, 2, 3]\n",
    "[x * 2 for x in lst]  # Slower and more verbose\n"
   ]
  },
  {
   "cell_type": "markdown",
   "metadata": {
    "id": "fCPd1JxfXPXr"
   },
   "source": [
    "- Besides creating an array from a sequence of elements, you can easily create an array filled with 0’s, 1's or the identity matrix:"
   ]
  },
  {
   "cell_type": "markdown",
   "metadata": {
    "id": "i8BKCkSk7gsp"
   },
   "source": [
    "### Built in functions"
   ]
  },
  {
   "cell_type": "code",
   "execution_count": null,
   "metadata": {
    "colab": {
     "base_uri": "https://localhost:8080/"
    },
    "id": "Okar95ET31q-",
    "outputId": "40609195-9615-4223-d471-252fd1183998"
   },
   "outputs": [],
   "source": [
    "print(np.zeros((2,3)))        # a matrix of zeros\n",
    "print(np.ones((3,2)))         # a matrix of ones\n",
    "print(np.eye(3))              # identity matrix"
   ]
  },
  {
   "cell_type": "markdown",
   "metadata": {
    "id": "bExrLA-N7dJ1"
   },
   "source": [
    "### Sequence and random values"
   ]
  },
  {
   "cell_type": "markdown",
   "metadata": {
    "id": "J92AvxzGXvQq"
   },
   "source": [
    "You can create an array with a range of elements, either randomly or as a sequence:"
   ]
  },
  {
   "cell_type": "code",
   "execution_count": 7,
   "metadata": {
    "colab": {
     "base_uri": "https://localhost:8080/"
    },
    "id": "yQpPOT265XNF",
    "outputId": "a14adb48-b2a1-42b2-8213-6dd33d084e50"
   },
   "outputs": [
    {
     "name": "stdout",
     "output_type": "stream",
     "text": [
      "[0 1 2 3]\n",
      "[2 4 6 8]\n"
     ]
    }
   ],
   "source": [
    "# Sequence from 0 to 3\n",
    "print(np.arange(4))\n",
    "\n",
    "# Sequence from 2 to 9 with a step of 2\n",
    "print(np.arange(2, 9, 2))\n",
    "\n"
   ]
  },
  {
   "cell_type": "markdown",
   "metadata": {},
   "source": [
    "#### Task 1 on Sorting array\n",
    "\n",
    "#### 📝 Instructions:\n",
    "\n",
    "1. Create a 1D NumPy array with the following values:\n",
    "\n",
    "   [2, 1, 5, 3, 7, 4, 6, 8]\n",
    "\n",
    "   <br>\n",
    "   \n",
    "\n",
    "2. Sort the array in ascending order.\n",
    "\n",
    "3. Sort the array in descending order."
   ]
  },
  {
   "cell_type": "markdown",
   "metadata": {
    "id": "cNj2_Rfk6_LU"
   },
   "source": [
    "### Task 2 on Sorting Array\n",
    "\n",
    "### 📝 Instructions:\n",
    "\n",
    "1. Create a 2D NumPy with 3 rows and 3 columns as follows:\n",
    "   ```python\n",
    "   [[3, 1, 4],\n",
    "    [1, 5, 9],\n",
    "    [2, 6, 5]]\n",
    "```\n",
    "\n",
    "2. Sort each row of the array. Print the sorted array. The expected output is as follows:\n",
    "\n",
    "[[1 3 4]\n",
    " [1 5 9]\n",
    " [2 5 6]]\n",
    "\n",
    "\n",
    "\n",
    "3. Sort all elements globally (regardless of the row or column). Print the sorted array in 2-D. The expected output is as follows:\n",
    "\n",
    "\n",
    "[[1  1  2]\n",
    " [3  4  5]\n",
    " [5  6  9]]"
   ]
  },
  {
   "cell_type": "markdown",
   "metadata": {
    "id": "jsEK-pur7Lkj"
   },
   "source": [
    "### Concatenation"
   ]
  },
  {
   "cell_type": "code",
   "execution_count": 8,
   "metadata": {
    "colab": {
     "base_uri": "https://localhost:8080/"
    },
    "id": "AVmTWZbg7QXE",
    "outputId": "2010f17d-331a-41cb-a3d8-c0556df81256"
   },
   "outputs": [
    {
     "name": "stdout",
     "output_type": "stream",
     "text": [
      "[1 2 3 4 5 6 7 8]\n",
      "[[1 2]\n",
      " [3 4]\n",
      " [5 6]]\n"
     ]
    }
   ],
   "source": [
    "a = np.array([1, 2, 3, 4])\n",
    "b = np.array([5, 6, 7, 8])\n",
    "c= np.concatenate((a, b))\n",
    "print(c)\n",
    "\n",
    "x = np.array([[1, 2], [3, 4]])\n",
    "y = np.array([[5, 6]])\n",
    "z= np.concatenate((x, y), axis=0)\n",
    "print(z)"
   ]
  },
  {
   "cell_type": "markdown",
   "metadata": {},
   "source": [
    "#### Array Operations"
   ]
  },
  {
   "cell_type": "code",
   "execution_count": 9,
   "metadata": {
    "colab": {
     "base_uri": "https://localhost:8080/"
    },
    "id": "oVUxx7J077dS",
    "outputId": "cf81131a-31e2-4b28-bc79-f2857f9751e1"
   },
   "outputs": [
    {
     "name": "stdout",
     "output_type": "stream",
     "text": [
      "[ 3  6  9 12 15 18]\n",
      "[ 2  8 18 32 50 72]\n"
     ]
    }
   ],
   "source": [
    "a = np.array([1,2,3,4,5,6])\n",
    "b = np.array([2,4,6,8, 10, 12])\n",
    "print (a+b)\n",
    "print(a*b)"
   ]
  },
  {
   "cell_type": "markdown",
   "metadata": {
    "id": "5dk053XA9Iqi"
   },
   "source": [
    "### Dimensions"
   ]
  },
  {
   "cell_type": "markdown",
   "metadata": {
    "id": "fdo7qm0jWoY_"
   },
   "source": [
    "**How do you know the shape and size of an array?**\n",
    "\n",
    "- **ndarray.ndim**: number of axes, or dimensions, of the array\n",
    "- **ndarray.size**: total number of elements of the array\n",
    "- **ndarray.shape**: display a tuple of integers that indicate the number of elements stored along each dimension of the array"
   ]
  },
  {
   "cell_type": "code",
   "execution_count": 10,
   "metadata": {
    "colab": {
     "base_uri": "https://localhost:8080/"
    },
    "id": "3isYgTKJgPil",
    "outputId": "de13b064-633a-4ee1-aa89-20f093ed98c5"
   },
   "outputs": [
    {
     "name": "stdout",
     "output_type": "stream",
     "text": [
      "2\n",
      "6\n",
      "(2, 3)\n",
      "[[0 0 0]\n",
      " [1 1 1]]\n"
     ]
    }
   ],
   "source": [
    "# Create a 2D NumPy array (2 rows, 3 columns)\n",
    "# In NumPy, the number of dimensions is called \"ndim\", and each dimension is called an \"axis\"\n",
    "k = np.array([[0, 0, 0], [1, 1, 1]])\n",
    "\n",
    "# Print the number of dimensions (axes) — should be 2 (i.e., it's a 2D array)\n",
    "print(k.ndim)  # Output: 2\n",
    "\n",
    "# Print the total number of elements in the array (2 rows × 3 columns = 6)\n",
    "print(k.size)  # Output: 6\n",
    "\n",
    "# Print the shape of the array: (2, 3) # 2 rows and 3 columns\n",
    "# → 2 elements along the first axis (rows), 3 elements along the second axis (columns)\n",
    "print(k.shape)  # Output: (2, 3)\n",
    "\n",
    "print(k)"
   ]
  },
  {
   "cell_type": "markdown",
   "metadata": {},
   "source": [
    "#### Task3 on Array Shape: \n",
    "\n",
    "Come up with an array that has the shape (3,2,4). What is meant by each values in the shape in this case? Please explain"
   ]
  },
  {
   "cell_type": "markdown",
   "metadata": {
    "id": "QJ-hhhU7dV5B"
   },
   "source": [
    "**Array Dimension Conversions**\n",
    "\n",
    "How to add a new axis to an array? For instance, how can we convert a 1D array into a 2D array?\n"
   ]
  },
  {
   "cell_type": "markdown",
   "metadata": {
    "id": "WmdH8tdzj6MH"
   },
   "source": [
    "We can use the `reshape` method to change the number of rows and columns of an array.\\\n",
    "When reshaping, we should consider that the original matrix and the reshaped matrix must have the same number of elements.\n",
    "\n",
    "#### Task 4: Reshape a 1D NumPy Array to 2D\n",
    "\n",
    "- Convert the following 1D array to 2D numpy array of 2 rows and 5 columns.\n",
    "\n",
    "  [1, 2, 3, 4, 5, 6, 7, 8, 9, 10]\n",
    "\n",
    "####  Question:\n",
    "You are given a 1D NumPy array with 10 elements. Which of the following reshape dimensions are **valid**?\n",
    "\n",
    "---\n",
    "\n",
    "####  Choices (Select all that apply):\n",
    "\n",
    "- [ ] (2, 5)\n",
    "- [ ] (3, 3)\n",
    "- [ ] (10, 1)\n",
    "- [ ] (2, 1, 5)\n",
    "- [ ] (2, 2, 2)\n"
   ]
  },
  {
   "cell_type": "markdown",
   "metadata": {
    "id": "qYQiZLhrgpMi"
   },
   "source": [
    "**Numpy Array Creation from Existing Data**"
   ]
  },
  {
   "cell_type": "code",
   "execution_count": 11,
   "metadata": {
    "colab": {
     "base_uri": "https://localhost:8080/"
    },
    "id": "6gkY8lBjkVMo",
    "outputId": "a00cf2b7-0e82-4f06-d9c8-dc07a04d9f36"
   },
   "outputs": [
    {
     "name": "stdout",
     "output_type": "stream",
     "text": [
      "[1 2 3 4]\n",
      "[(1, 2, 3) (4, 5)]\n"
     ]
    }
   ],
   "source": [
    "# convert list to np array\n",
    "l = [1,2,3,4]\n",
    "npa = np.asarray(l)\n",
    "print(npa)\n",
    "# from list of tuples\n",
    "l = [(1,2,3),(4,5)]\n",
    "# By default, the data type of input data is applied to the result array\n",
    "# we can change data type with dtype parameter\n",
    "npa = np.asarray(l, dtype= object)\n",
    "print(npa)"
   ]
  },
  {
   "cell_type": "code",
   "execution_count": 12,
   "metadata": {
    "colab": {
     "base_uri": "https://localhost:8080/"
    },
    "id": "QvKYtQCpoos2",
    "outputId": "48d7c635-a57f-415a-c287-9a3058d111a2"
   },
   "outputs": [
    {
     "name": "stdout",
     "output_type": "stream",
     "text": [
      "[0 1 2 3 4 5 6]\n"
     ]
    }
   ],
   "source": [
    "s = \"0123456\"\n",
    "#Creates a new 1-dimensional array from an iterable object\n",
    "npa = np.fromiter(s, dtype=int)\n",
    "print(npa)"
   ]
  },
  {
   "cell_type": "markdown",
   "metadata": {
    "id": "nitm3wotK3HY"
   },
   "source": [
    "### How can we measure or quantify the relationship between two variables ?\n",
    "\n",
    "\n",
    "#### Covariance\n",
    "\n",
    "Covariance is a statistical measure that describes the relationship between two variables.\n",
    "\n",
    "- It indicates the **direction** of the linear relationship (positive or negative) between the variables.\n",
    "- The variables can have **different units of measurement**\n",
    "- Covariance estimates the **extent to which the two variables change together**:\n",
    "  - A **positive covariance** means that as one variable increases, the other tends to increase as well.\n",
    "  - A **negative covariance** means that as one variable increases, the other tends to decrease.\n",
    "- It helps determine whether variables **move in the same or opposite direction**.\n",
    "\n",
    "> ⚠️ However, covariance **does not indicate the strength** (degree) of the relationship.  \n",
    "> For that, the **correlation coefficient** is a better measure.\n",
    "\n",
    "\n",
    "The calculation of the sample covariance is as follows:\n",
    "\n",
    "$$\n",
    "\\text{cov}(X, Y) = \\frac{\\sum_{i=1}^{n} (X_i - \\bar{X})(Y_i - \\bar{Y})}{n - 1}\n",
    "$$\n",
    "\n",
    "\n",
    "#### What is Correlation?\n",
    "\n",
    "**Correlation** refers to a statistical relationship between two variables — how they move or change in relation to one another.\n",
    "\n",
    "Understanding correlation is important in data analysis and modeling because it helps identify potential connections between variables. These connections can exist for various reasons, such as:\n",
    "\n",
    "- One variable may directly **influence or depend on** another.\n",
    "- The variables might have a **weak or moderate association** without direct causation.\n",
    "- Both variables could be **influenced by a third, unobserved factor**.\n",
    "\n",
    "By examining correlations, we gain insights into the structure of the data, which can guide decisions in feature selection and interpretation of results.\n",
    "\n",
    "\n",
    "\n",
    "- Correlation measures the **direction and strength** of the relationship between variables.\n",
    "- The measure of correlation is called the **correlation coefficient**.\n",
    "- The **correlation coefficient** (also known as **Pearson’s correlation coefficient**, denoted as *r*) measures the **strength of the linear relationship** between two continuous variables.\n",
    "- The **degree of relationship** is expressed by a value called *r*, which satisfies:\n",
    "\n",
    "  $$\n",
    "  -1 \\leq r \\leq 1\n",
    "  $$\n",
    "\n",
    "  - \\( r = 1 \\): Perfect positive linear relationship  \n",
    "  - \\( r = -1 \\): Perfect negative linear relationship  \n",
    "  - \\( r = 0 \\): No linear relationship\n",
    "\n",
    "\n",
    "> **The correlation coefficient `r` is equal to the covariance of `X` and `Y`, divided by the product of the standard deviations of `X` and `Y`.**\n",
    "\n",
    "\n",
    "$$\n",
    "r = \\frac{\\text{cov}(X, Y)}{S_X S_Y}\n",
    "$$\n",
    "\n",
    "<br>\n",
    "\n",
    "\n",
    "Let's have a look at an example below and compute covariance and correlation between two `numpy` arrays."
   ]
  },
  {
   "cell_type": "code",
   "execution_count": 13,
   "metadata": {},
   "outputs": [
    {
     "name": "stdout",
     "output_type": "stream",
     "text": [
      "[[352.9047619   14.        ]\n",
      " [ 14.           4.66666667]]\n",
      "\n",
      "Covariance: 14.0\n"
     ]
    }
   ],
   "source": [
    "import numpy as np\n",
    "# Sample data\n",
    "# Having X and Y variables\n",
    "X = np.array([7, 8, 3, 6, 57, 11, 15 ])\n",
    "Y = np.arange(7)\n",
    "\n",
    "\n",
    "cov_matrix = np.cov(X, Y)  \n",
    "print(cov_matrix)\n",
    "cov_xy = cov_matrix[0, 1] \n",
    "print(\"\\nCovariance:\", cov_xy) #cov_matrix[0, 1] (or [1, 0]) is the actual covariance between X and Y\n",
    "\n"
   ]
  },
  {
   "cell_type": "markdown",
   "metadata": {},
   "source": [
    "⚠️ **Note:** The Covariance is the value that appears twice, - (the second and third number from left to right); This is because Python is actually calculating the covariance matrix, $cov(x)$, $cov(x,y)$, $cov(y,x)$, and $cov(y)$ in that order, we only need $cov(x,y)$, which happen to be the same as $cov(y,x)$"
   ]
  },
  {
   "cell_type": "code",
   "execution_count": 14,
   "metadata": {},
   "outputs": [
    {
     "name": "stdout",
     "output_type": "stream",
     "text": [
      "352.90476190476187\n",
      "4.666666666666667\n"
     ]
    }
   ],
   "source": [
    "#this only for teachers (in case someone asks if covariance (x,x) = variance (x) so yes this is true\n",
    "# but pay attention to ddof =1 because in sample , it should be 1. by default  np.var() computes population variance. \n",
    "# The covariance we have computed above is actually for sample. So variance should also be for sample (n-1).\n",
    "\n",
    "print(np.var(X, ddof=1)) # need to set ddof=1 for sample. In case of covariance it (ddof) is already 1 by default for sample. \n",
    "print(np.var(Y, ddof=1)) # cov(x) = variance (x) and similarly cov(y) = variance (y)"
   ]
  },
  {
   "cell_type": "code",
   "execution_count": 15,
   "metadata": {},
   "outputs": [
    {
     "name": "stdout",
     "output_type": "stream",
     "text": [
      "[[1.         0.34498156]\n",
      " [0.34498156 1.        ]]\n",
      "Correlation coefficient (r): 0.3449815633402216\n"
     ]
    }
   ],
   "source": [
    "corr_matrix = np.corrcoef(X, Y)\n",
    "print(corr_matrix)\n",
    "corr_xy = corr_matrix[0, 1]\n",
    "print(\"Correlation coefficient (r):\", corr_xy)"
   ]
  },
  {
   "cell_type": "markdown",
   "metadata": {},
   "source": [
    "#### Task 5\n",
    "\n",
    "A toy dataset of Dutch cities featuring the number of sports facilities and educational facilities. This small data is perfect to practice some statistical concepts. The objective of this task is to calculate and interpret the covariance and correlation coefficient.\n",
    "\n",
    "\n",
    "| Dutch City    | Sports Facilities | Educational Facilities |\n",
    "|:-------------:|:------------------:|:--------------------:|\n",
    "| Leiden        | 23                 | 16                   |\n",
    "| Maastricht    | 25                 | 26                   |\n",
    "| Haarlem       | 17                 | 12                   |\n",
    "| Nijmegen      | 38                 | 32                   |\n",
    "| Eindhoven     | 40                 | 35                   |\n",
    "| Tilburg       | 30                 | 26                   |\n",
    "| Groningen     | 36                 | 36                   |\n",
    "| Den Bosch     | 29                 | 32                   |\n",
    "| Scheveningen  | 15                 | 8                    |\n",
    "| Venlo         | 11                 | 14                   |\n",
    "\n",
    "\n",
    "#### Use the above data to: compute the i) Covariance and ii) Correlation between the two variables (the number of sports facilities and the number of educational facilities)\n",
    "\n",
    "#### Create a scatter plot of the number of sports facilities vs the number of educational facilities.\n",
    "\n"
   ]
  },
  {
   "cell_type": "markdown",
   "metadata": {},
   "source": [
    "### Exploring the Wine Quality Dataset\n",
    "\n",
    "We are going to load the Wine Quality Dataset from here: https://archive.ics.uci.edu/dataset/186/wine+quality \n",
    "\n",
    "Please study the variables present in this dataset (see the above url). \n",
    "\n",
    "The target variable is `quality` which refers to the quality of wine and is a score between 0 to 10. \n",
    "\n",
    "Most other variables can be used as features to predict the quality. However, before we start developing prediction models, we should gain a better understanding of the `features` and their relationship with the `target`. For this, we will utilize the **correlation coefficient**.\n",
    "\n",
    "### How to load the Wine Quality Dataset?\n",
    "\n",
    "- Go to: https://archive.ics.uci.edu/dataset/186/wine+quality\n",
    "- Click on `Import in Python` and follow the instructions.\n",
    "\n",
    "I have done the same below.\n"
   ]
  },
  {
   "cell_type": "code",
   "execution_count": 16,
   "metadata": {},
   "outputs": [
    {
     "name": "stdout",
     "output_type": "stream",
     "text": [
      "Requirement already satisfied: ucimlrepo in /Users/rohanpersonal/anaconda3/envs/DS_course/lib/python3.12/site-packages (0.0.7)\n",
      "Requirement already satisfied: pandas>=1.0.0 in /Users/rohanpersonal/anaconda3/envs/DS_course/lib/python3.12/site-packages (from ucimlrepo) (2.2.3)\n",
      "Requirement already satisfied: certifi>=2020.12.5 in /Users/rohanpersonal/anaconda3/envs/DS_course/lib/python3.12/site-packages (from ucimlrepo) (2024.12.14)\n",
      "Requirement already satisfied: numpy>=1.26.0 in /Users/rohanpersonal/anaconda3/envs/DS_course/lib/python3.12/site-packages (from pandas>=1.0.0->ucimlrepo) (2.2.1)\n",
      "Requirement already satisfied: python-dateutil>=2.8.2 in /Users/rohanpersonal/anaconda3/envs/DS_course/lib/python3.12/site-packages (from pandas>=1.0.0->ucimlrepo) (2.9.0.post0)\n",
      "Requirement already satisfied: pytz>=2020.1 in /Users/rohanpersonal/anaconda3/envs/DS_course/lib/python3.12/site-packages (from pandas>=1.0.0->ucimlrepo) (2024.1)\n",
      "Requirement already satisfied: tzdata>=2022.7 in /Users/rohanpersonal/anaconda3/envs/DS_course/lib/python3.12/site-packages (from pandas>=1.0.0->ucimlrepo) (2024.2)\n",
      "Requirement already satisfied: six>=1.5 in /Users/rohanpersonal/anaconda3/envs/DS_course/lib/python3.12/site-packages (from python-dateutil>=2.8.2->pandas>=1.0.0->ucimlrepo) (1.16.0)\n"
     ]
    }
   ],
   "source": [
    "!pip install ucimlrepo # Install the ucimlrepo package"
   ]
  },
  {
   "cell_type": "code",
   "execution_count": 17,
   "metadata": {},
   "outputs": [],
   "source": [
    "from ucimlrepo import fetch_ucirepo \n",
    "  \n",
    "# fetch dataset \n",
    "wine_quality = fetch_ucirepo(id=186) \n",
    "  \n",
    "# data (as pandas dataframes) \n",
    "X = wine_quality.data.features # X has features\n",
    "y = wine_quality.data.targets  # y has target"
   ]
  },
  {
   "cell_type": "code",
   "execution_count": 18,
   "metadata": {},
   "outputs": [
    {
     "data": {
      "text/html": [
       "<div>\n",
       "<style scoped>\n",
       "    .dataframe tbody tr th:only-of-type {\n",
       "        vertical-align: middle;\n",
       "    }\n",
       "\n",
       "    .dataframe tbody tr th {\n",
       "        vertical-align: top;\n",
       "    }\n",
       "\n",
       "    .dataframe thead th {\n",
       "        text-align: right;\n",
       "    }\n",
       "</style>\n",
       "<table border=\"1\" class=\"dataframe\">\n",
       "  <thead>\n",
       "    <tr style=\"text-align: right;\">\n",
       "      <th></th>\n",
       "      <th>fixed_acidity</th>\n",
       "      <th>volatile_acidity</th>\n",
       "      <th>citric_acid</th>\n",
       "      <th>residual_sugar</th>\n",
       "      <th>chlorides</th>\n",
       "      <th>free_sulfur_dioxide</th>\n",
       "      <th>total_sulfur_dioxide</th>\n",
       "      <th>density</th>\n",
       "      <th>pH</th>\n",
       "      <th>sulphates</th>\n",
       "      <th>alcohol</th>\n",
       "      <th>quality</th>\n",
       "    </tr>\n",
       "  </thead>\n",
       "  <tbody>\n",
       "    <tr>\n",
       "      <th>0</th>\n",
       "      <td>7.4</td>\n",
       "      <td>0.70</td>\n",
       "      <td>0.00</td>\n",
       "      <td>1.9</td>\n",
       "      <td>0.076</td>\n",
       "      <td>11.0</td>\n",
       "      <td>34.0</td>\n",
       "      <td>0.99780</td>\n",
       "      <td>3.51</td>\n",
       "      <td>0.56</td>\n",
       "      <td>9.4</td>\n",
       "      <td>5</td>\n",
       "    </tr>\n",
       "    <tr>\n",
       "      <th>1</th>\n",
       "      <td>7.8</td>\n",
       "      <td>0.88</td>\n",
       "      <td>0.00</td>\n",
       "      <td>2.6</td>\n",
       "      <td>0.098</td>\n",
       "      <td>25.0</td>\n",
       "      <td>67.0</td>\n",
       "      <td>0.99680</td>\n",
       "      <td>3.20</td>\n",
       "      <td>0.68</td>\n",
       "      <td>9.8</td>\n",
       "      <td>5</td>\n",
       "    </tr>\n",
       "    <tr>\n",
       "      <th>2</th>\n",
       "      <td>7.8</td>\n",
       "      <td>0.76</td>\n",
       "      <td>0.04</td>\n",
       "      <td>2.3</td>\n",
       "      <td>0.092</td>\n",
       "      <td>15.0</td>\n",
       "      <td>54.0</td>\n",
       "      <td>0.99700</td>\n",
       "      <td>3.26</td>\n",
       "      <td>0.65</td>\n",
       "      <td>9.8</td>\n",
       "      <td>5</td>\n",
       "    </tr>\n",
       "    <tr>\n",
       "      <th>3</th>\n",
       "      <td>11.2</td>\n",
       "      <td>0.28</td>\n",
       "      <td>0.56</td>\n",
       "      <td>1.9</td>\n",
       "      <td>0.075</td>\n",
       "      <td>17.0</td>\n",
       "      <td>60.0</td>\n",
       "      <td>0.99800</td>\n",
       "      <td>3.16</td>\n",
       "      <td>0.58</td>\n",
       "      <td>9.8</td>\n",
       "      <td>6</td>\n",
       "    </tr>\n",
       "    <tr>\n",
       "      <th>4</th>\n",
       "      <td>7.4</td>\n",
       "      <td>0.70</td>\n",
       "      <td>0.00</td>\n",
       "      <td>1.9</td>\n",
       "      <td>0.076</td>\n",
       "      <td>11.0</td>\n",
       "      <td>34.0</td>\n",
       "      <td>0.99780</td>\n",
       "      <td>3.51</td>\n",
       "      <td>0.56</td>\n",
       "      <td>9.4</td>\n",
       "      <td>5</td>\n",
       "    </tr>\n",
       "    <tr>\n",
       "      <th>...</th>\n",
       "      <td>...</td>\n",
       "      <td>...</td>\n",
       "      <td>...</td>\n",
       "      <td>...</td>\n",
       "      <td>...</td>\n",
       "      <td>...</td>\n",
       "      <td>...</td>\n",
       "      <td>...</td>\n",
       "      <td>...</td>\n",
       "      <td>...</td>\n",
       "      <td>...</td>\n",
       "      <td>...</td>\n",
       "    </tr>\n",
       "    <tr>\n",
       "      <th>6492</th>\n",
       "      <td>6.2</td>\n",
       "      <td>0.21</td>\n",
       "      <td>0.29</td>\n",
       "      <td>1.6</td>\n",
       "      <td>0.039</td>\n",
       "      <td>24.0</td>\n",
       "      <td>92.0</td>\n",
       "      <td>0.99114</td>\n",
       "      <td>3.27</td>\n",
       "      <td>0.50</td>\n",
       "      <td>11.2</td>\n",
       "      <td>6</td>\n",
       "    </tr>\n",
       "    <tr>\n",
       "      <th>6493</th>\n",
       "      <td>6.6</td>\n",
       "      <td>0.32</td>\n",
       "      <td>0.36</td>\n",
       "      <td>8.0</td>\n",
       "      <td>0.047</td>\n",
       "      <td>57.0</td>\n",
       "      <td>168.0</td>\n",
       "      <td>0.99490</td>\n",
       "      <td>3.15</td>\n",
       "      <td>0.46</td>\n",
       "      <td>9.6</td>\n",
       "      <td>5</td>\n",
       "    </tr>\n",
       "    <tr>\n",
       "      <th>6494</th>\n",
       "      <td>6.5</td>\n",
       "      <td>0.24</td>\n",
       "      <td>0.19</td>\n",
       "      <td>1.2</td>\n",
       "      <td>0.041</td>\n",
       "      <td>30.0</td>\n",
       "      <td>111.0</td>\n",
       "      <td>0.99254</td>\n",
       "      <td>2.99</td>\n",
       "      <td>0.46</td>\n",
       "      <td>9.4</td>\n",
       "      <td>6</td>\n",
       "    </tr>\n",
       "    <tr>\n",
       "      <th>6495</th>\n",
       "      <td>5.5</td>\n",
       "      <td>0.29</td>\n",
       "      <td>0.30</td>\n",
       "      <td>1.1</td>\n",
       "      <td>0.022</td>\n",
       "      <td>20.0</td>\n",
       "      <td>110.0</td>\n",
       "      <td>0.98869</td>\n",
       "      <td>3.34</td>\n",
       "      <td>0.38</td>\n",
       "      <td>12.8</td>\n",
       "      <td>7</td>\n",
       "    </tr>\n",
       "    <tr>\n",
       "      <th>6496</th>\n",
       "      <td>6.0</td>\n",
       "      <td>0.21</td>\n",
       "      <td>0.38</td>\n",
       "      <td>0.8</td>\n",
       "      <td>0.020</td>\n",
       "      <td>22.0</td>\n",
       "      <td>98.0</td>\n",
       "      <td>0.98941</td>\n",
       "      <td>3.26</td>\n",
       "      <td>0.32</td>\n",
       "      <td>11.8</td>\n",
       "      <td>6</td>\n",
       "    </tr>\n",
       "  </tbody>\n",
       "</table>\n",
       "<p>6497 rows × 12 columns</p>\n",
       "</div>"
      ],
      "text/plain": [
       "      fixed_acidity  volatile_acidity  citric_acid  residual_sugar  chlorides  \\\n",
       "0               7.4              0.70         0.00             1.9      0.076   \n",
       "1               7.8              0.88         0.00             2.6      0.098   \n",
       "2               7.8              0.76         0.04             2.3      0.092   \n",
       "3              11.2              0.28         0.56             1.9      0.075   \n",
       "4               7.4              0.70         0.00             1.9      0.076   \n",
       "...             ...               ...          ...             ...        ...   \n",
       "6492            6.2              0.21         0.29             1.6      0.039   \n",
       "6493            6.6              0.32         0.36             8.0      0.047   \n",
       "6494            6.5              0.24         0.19             1.2      0.041   \n",
       "6495            5.5              0.29         0.30             1.1      0.022   \n",
       "6496            6.0              0.21         0.38             0.8      0.020   \n",
       "\n",
       "      free_sulfur_dioxide  total_sulfur_dioxide  density    pH  sulphates  \\\n",
       "0                    11.0                  34.0  0.99780  3.51       0.56   \n",
       "1                    25.0                  67.0  0.99680  3.20       0.68   \n",
       "2                    15.0                  54.0  0.99700  3.26       0.65   \n",
       "3                    17.0                  60.0  0.99800  3.16       0.58   \n",
       "4                    11.0                  34.0  0.99780  3.51       0.56   \n",
       "...                   ...                   ...      ...   ...        ...   \n",
       "6492                 24.0                  92.0  0.99114  3.27       0.50   \n",
       "6493                 57.0                 168.0  0.99490  3.15       0.46   \n",
       "6494                 30.0                 111.0  0.99254  2.99       0.46   \n",
       "6495                 20.0                 110.0  0.98869  3.34       0.38   \n",
       "6496                 22.0                  98.0  0.98941  3.26       0.32   \n",
       "\n",
       "      alcohol  quality  \n",
       "0         9.4        5  \n",
       "1         9.8        5  \n",
       "2         9.8        5  \n",
       "3         9.8        6  \n",
       "4         9.4        5  \n",
       "...       ...      ...  \n",
       "6492     11.2        6  \n",
       "6493      9.6        5  \n",
       "6494      9.4        6  \n",
       "6495     12.8        7  \n",
       "6496     11.8        6  \n",
       "\n",
       "[6497 rows x 12 columns]"
      ]
     },
     "execution_count": 18,
     "metadata": {},
     "output_type": "execute_result"
    }
   ],
   "source": [
    "# Combine X and y into a single DataFrame df so we can compute the correlation matrix of all variables together\n",
    "df = X.copy()              # Start with feature DataFrame\n",
    "df['quality'] = y          # Add quality as a new column\n",
    "df"
   ]
  },
  {
   "cell_type": "markdown",
   "metadata": {},
   "source": [
    "#### Correlation Matrix and Heatmap\n",
    "\n",
    "- A **correlation matrix** is a table that shows the **linear relationship** (correlation) between each pair of numerical variables in your dataset.\n",
    "It helps us quickly understand which features are:\n",
    "  - Strongly related to each other\n",
    "  - Potentially redundant (e.g., if two variables are highly correlated)\n",
    "  - Most related to the **target variable** (useful for prediction)\n",
    "\n",
    "### 🌡️ Heatmap Visualization\n",
    "\n",
    "- A **heatmap** is a graphical representation of the correlation matrix.\n",
    "- It uses **color intensity** to show the strength and direction of correlations.\n",
    "  - In this case (We can change the colors): \n",
    "    - 🔴 Red = Strong positive correlation\n",
    "    - 🔵 Blue = Strong negative correlation\n",
    "    - ⚪ Light/white = Weak or no correlation\n",
    "- It includes **annotated numbers** to show the exact correlation values.\n",
    "- Heatmaps make it **easy to spot patterns** at a glance."
   ]
  },
  {
   "cell_type": "code",
   "execution_count": 19,
   "metadata": {},
   "outputs": [
    {
     "ename": "NameError",
     "evalue": "name 'plt' is not defined",
     "output_type": "error",
     "traceback": [
      "\u001b[0;31m---------------------------------------------------------------------------\u001b[0m",
      "\u001b[0;31mNameError\u001b[0m                                 Traceback (most recent call last)",
      "Cell \u001b[0;32mIn[19], line 7\u001b[0m\n\u001b[1;32m      4\u001b[0m corr \u001b[38;5;241m=\u001b[39m df\u001b[38;5;241m.\u001b[39mcorr()\n\u001b[1;32m      6\u001b[0m \u001b[38;5;66;03m# Plot heatmap\u001b[39;00m\n\u001b[0;32m----> 7\u001b[0m plt\u001b[38;5;241m.\u001b[39mfigure(figsize\u001b[38;5;241m=\u001b[39m(\u001b[38;5;241m12\u001b[39m, \u001b[38;5;241m8\u001b[39m))\n\u001b[1;32m      8\u001b[0m sns\u001b[38;5;241m.\u001b[39mheatmap(corr, annot\u001b[38;5;241m=\u001b[39m\u001b[38;5;28;01mTrue\u001b[39;00m, cmap\u001b[38;5;241m=\u001b[39m\u001b[38;5;124m\"\u001b[39m\u001b[38;5;124mcoolwarm\u001b[39m\u001b[38;5;124m\"\u001b[39m, fmt\u001b[38;5;241m=\u001b[39m\u001b[38;5;124m\"\u001b[39m\u001b[38;5;124m.2f\u001b[39m\u001b[38;5;124m\"\u001b[39m)\n\u001b[1;32m      9\u001b[0m plt\u001b[38;5;241m.\u001b[39mtitle(\u001b[38;5;124m\"\u001b[39m\u001b[38;5;124mCorrelation Matrix:  Wine Quality Dataset\u001b[39m\u001b[38;5;124m\"\u001b[39m)\n",
      "\u001b[0;31mNameError\u001b[0m: name 'plt' is not defined"
     ]
    }
   ],
   "source": [
    "# Compute correlation matrix\n",
    "import matplotlib.pyplot as plt\n",
    "import seaborn as sns # you might need to install the seaborn library\n",
    "\n",
    "corr = df.corr()\n",
    "\n",
    "# Plot heatmap\n",
    "plt.figure(figsize=(12, 8))\n",
    "sns.heatmap(corr, annot=True, cmap=\"coolwarm\", fmt=\".2f\")\n",
    "plt.title(\"Correlation Matrix:  Wine Quality Dataset\")\n",
    "plt.tight_layout()\n",
    "plt.show()"
   ]
  },
  {
   "cell_type": "markdown",
   "metadata": {},
   "source": [
    "#### Interpretation of the Heatmap\n",
    "\n",
    "Take a close look at the **correlation heatmap** for the Wine Quality dataset.\n",
    "\n",
    "### 🔍 Task 6:\n",
    "\n",
    "1. **Identify the features** that are most strongly correlated with the target variable `quality`.\n",
    "2. Which feature has the **highest positive correlation** with `quality`?\n",
    "3. Are there any **features that are strongly correlated with each other** (not including `quality`)?\n",
    "4. Any other interesting observations you notice?"
   ]
  },
  {
   "cell_type": "markdown",
   "metadata": {},
   "source": [
    "###  Exploratory Data Analysis on a Crime Dataset\n",
    "\n",
    "The dataset consists of observations from the year 1987 for the crime rate in North Carolina. The State consists of counties. The dataset is available here: https://raw.githubusercontent.com/rnanda17/data_science_BE/refs/heads/main/crime_1987.csv . The data is aggregated by county. \n",
    "\n",
    "The dataset has been taken from this paper (http://qed.econ.queensu.ca/jae/datasets/baltagi003/) by only selecting for the year 1987. \n",
    "\n",
    "A brief description of various variables in the dataset is presented below:\n",
    "\n",
    "county\n",
    "\n",
    "    county identifier\n",
    "year\n",
    "\n",
    "    year = 1987\n",
    "crmrte\n",
    "\n",
    "    crimes committed per person\n",
    "prbarr\n",
    "\n",
    "    'probability' of arrest\n",
    "prbconv\n",
    "\n",
    "    'probability' of conviction\n",
    "prbpris\n",
    "\n",
    "    'probability' of prison sentence\n",
    "avgsen\n",
    "\n",
    "    average sentence, days\n",
    "polpc\n",
    "\n",
    "    police per capita\n",
    "density\n",
    "\n",
    "    hundreds of people per square mile\n",
    "taxpc\n",
    "\n",
    "    tax revenue per capita\n",
    "west\n",
    "\n",
    "    'west' = 1, if region is west for the State \n",
    "    \n",
    "central\n",
    "\n",
    "    'central' = 1, if region is central for the State\n",
    "\n",
    "urban\n",
    "\n",
    "    'urban' = 1 if in SMSA (Standard Metropolitan Statistical Area)\n",
    "    \n",
    "pctmin80\n",
    "\n",
    "    percentage minority in 1980\n",
    "    \n",
    "wcon\n",
    "\n",
    "    weekly wage in construction\n",
    "wtuc\n",
    "\n",
    "    weekly wage in trns, util, commun\n",
    "wtrd\n",
    "\n",
    "    weekly wage in whole sales and retail trade\n",
    "wfir\n",
    "\n",
    "    weekly wage in finance, insurance and real estate\n",
    "wser\n",
    "\n",
    "    weekly wage in service industry\n",
    "wmfg\n",
    "\n",
    "    weekly wage in manufacturing\n",
    "wfed\n",
    "\n",
    "    weekly wage of federal employees\n",
    "wsta\n",
    "\n",
    "    weekly wage of state employees\n",
    "wloc\n",
    "\n",
    "    weekly wage of local governments employees\n",
    "mix\n",
    "\n",
    "    offense mix: face-to-face/other\n",
    "pctymle\n",
    "\n",
    "    percentage of young males\n",
    "\n",
    "<br>\n",
    "\n",
    "\n",
    "#### Task 7\n",
    "\n",
    "The target (or dependent) variable of interest is crime rate which is represented by `crmrte` (in theory/future we would like to use a machine learning algorithm like <strong>Linear Regression</strong> to predict the the crime rate, `crmrte`. Your goal is to find out which are the key variables (features) with most strong association with `crmrte`. This is called as feature selection phase in machine learning. You want to take only the most relevant features to predict the value of `crmrte`. Therefore, you must\n",
    "\n",
    "\n",
    "- Do a exploratory numerical and visual data analysis on the data variables\n",
    "- Explore and plot the relationships between various independent variables and the target variable: `crmrte`\n",
    "\n",
    "Once you’ve completed your analysis, summarize:\n",
    "- Which features could be most relevant for predicting `crmrte`\n",
    "- Which variables show problematic outliers.\n",
    "- For which variables it might be justified to keep the outliers (e.g., because they represent real-world extreme cases rather than errors).\n",
    "- Any insights in the relationships between variables\n",
    "\n",
    "\n",
    "Hints: \n",
    "\n",
    "You can perform correlation analysis to find out variables with strong association with the target `crmrte`. You can also use scatter plots to assess the relationship of feartures and the target. \n",
    "\n",
    "Then you can focus on plots such as boxplots (to check for outliers) or/and histograms (for data distribution). \n",
    "\n",
    "You are encouraged to go beyond the suggested methods.  Feel free to explore other plots or techniques as this is an open-ended analysis.\n"
   ]
  }
 ],
 "metadata": {
  "colab": {
   "provenance": []
  },
  "kernelspec": {
   "display_name": "Python 3 (ipykernel)",
   "language": "python",
   "name": "python3"
  },
  "language_info": {
   "codemirror_mode": {
    "name": "ipython",
    "version": 3
   },
   "file_extension": ".py",
   "mimetype": "text/x-python",
   "name": "python",
   "nbconvert_exporter": "python",
   "pygments_lexer": "ipython3",
   "version": "3.12.8"
  }
 },
 "nbformat": 4,
 "nbformat_minor": 4
}
