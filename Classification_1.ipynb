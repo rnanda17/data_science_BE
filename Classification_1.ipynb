{
 "cells": [
  {
   "cell_type": "markdown",
   "id": "d1152072",
   "metadata": {},
   "source": [
    "\n",
    "\n",
    "\n",
    "#### Intended Learning Outcomes:\n",
    "This notebook provides a gentle introduction to classification, a type of supervised machine learning pronblem. \n",
    "By the end of this notebook you will know how to:\n",
    "\n",
    "- Perform and evaluate Classification technique of Machine learning using the K-Nearest Neighbours model\n",
    "\n",
    "#### Libraries to be used:\n",
    "You can activate your previously used environment, though you will not use most packages from that environment. In this tutorial, we will use only the most commonly used python libraries such as: `pandas`, `numpy`, `matplotlib`, `scipy`, `seaborn` etc. \n",
    "\n",
    "We will use the Machine Learning library of Python, called Scikit Learn. You can use `pip` to install it. See the instructions here: https://scikit-learn.org/stable/install.html"
   ]
  },
  {
   "cell_type": "markdown",
   "id": "43329834",
   "metadata": {},
   "source": [
    "## 1. Classification\n",
    "\n",
    "This is an object recognition task in which you will train a supervised machine learning classifier to identify a fruit type based on certain features such as mass, width, height and color score."
   ]
  },
  {
   "cell_type": "markdown",
   "id": "6682ab5b",
   "metadata": {},
   "source": [
    "#### 1.1 Read the dataset\n",
    "The dataset is available here: https://raw.githubusercontent.com/rnanda17/data_science_BE/refs/heads/main/fruit_dataset.csv"
   ]
  },
  {
   "cell_type": "markdown",
   "id": "e3da6696",
   "metadata": {},
   "source": [
    "#### 1.2 Find out how many unique types of fruits are in the dataset ?"
   ]
  },
  {
   "cell_type": "markdown",
   "id": "b1598f0d",
   "metadata": {},
   "source": [
    "#### 1.3 Which label belongs to which fruit?\n",
    "\n",
    "So, there are 4 types of fruits and we also have 4 fruit labels. Imagine if this dataset (in real life) contained hundreds of fruits, how would you know which label belongs to which fruit ?\n",
    "\n",
    "For this we will create a dictionary which maps fruits labels to fruit names."
   ]
  },
  {
   "cell_type": "code",
   "execution_count": null,
   "id": "6c157c21",
   "metadata": {},
   "outputs": [],
   "source": [
    "dict_mapping_fruits = dict(zip(df_fruits['fruit_label'],df_fruits['fruit_name']))\n",
    "dict_mapping_fruits"
   ]
  },
  {
   "cell_type": "markdown",
   "id": "668fea8a",
   "metadata": {},
   "source": [
    "#### 1.4 Choose the features and the target variable\n",
    "X represents the input features and y represents the target variable whose value needs to be predicted."
   ]
  },
  {
   "cell_type": "code",
   "execution_count": null,
   "id": "ebef0c00",
   "metadata": {},
   "outputs": [],
   "source": [
    "features_columns = ['mass','width','height','color_score'] # the features we have selected from the dataset\n",
    "X = df_fruits[features_columns] # x contains the columns of the selected features: mass, width, height, color_score\n",
    "y = df_fruits['fruit_label'] # y contains the fruit label"
   ]
  },
  {
   "cell_type": "code",
   "execution_count": null,
   "id": "4cb1853e",
   "metadata": {},
   "outputs": [],
   "source": [
    "#Print the features, X\n",
    "X.head()"
   ]
  },
  {
   "cell_type": "code",
   "execution_count": null,
   "id": "b4b3c3b5",
   "metadata": {},
   "outputs": [],
   "source": [
    "#Print the target variable, y\n",
    "y.head()"
   ]
  },
  {
   "cell_type": "markdown",
   "id": "fb5a7ba9",
   "metadata": {},
   "source": [
    "#### 1.5 Split the dataset into training and test set (75% training and 25% training)"
   ]
  },
  {
   "cell_type": "code",
   "execution_count": null,
   "id": "cdf06440",
   "metadata": {},
   "outputs": [],
   "source": [
    "from sklearn.model_selection import train_test_split\n",
    "X_train, X_test, y_train, y_test = train_test_split(X, y, random_state=0, test_size=0.25)\n",
    "len_train = len(X_train)\n",
    "len_test = len(X_test)\n",
    "print(\"Length of the training set: {}\".format(len_train))\n",
    "print(\"Length of the test set: {}\".format(len_test))"
   ]
  },
  {
   "cell_type": "markdown",
   "id": "5f4024d6",
   "metadata": {},
   "source": [
    "#### 1.6 Train the KNN Classifier\n"
   ]
  },
  {
   "cell_type": "code",
   "execution_count": null,
   "id": "6eb25fb0",
   "metadata": {},
   "outputs": [],
   "source": [
    "from sklearn.neighbors import KNeighborsClassifier\n",
    "clf = KNeighborsClassifier(n_neighbors = 5) # we set n_neigbours=5\n",
    "clf.fit(X_train, y_train)"
   ]
  },
  {
   "cell_type": "markdown",
   "id": "df8b1c16",
   "metadata": {},
   "source": [
    "#### 1.7 Compute the accuracy of the classifier on test data"
   ]
  },
  {
   "cell_type": "code",
   "execution_count": null,
   "id": "da0fab6e",
   "metadata": {},
   "outputs": [],
   "source": [
    "clf.score(X_test, y_test)"
   ]
  },
  {
   "cell_type": "markdown",
   "id": "d55f0373",
   "metadata": {},
   "source": [
    "#### 1.8 Print the confusion matrix. Compute the precision, recall and F-Score"
   ]
  },
  {
   "cell_type": "code",
   "execution_count": null,
   "id": "bb1de602",
   "metadata": {},
   "outputs": [],
   "source": [
    "from sklearn.metrics import confusion_matrix, classification_report, ConfusionMatrixDisplay\n",
    "\n",
    "y_pred = clf.predict(X_test)\n",
    "cm = confusion_matrix(y_test, y_pred, labels=clf.classes_)"
   ]
  },
  {
   "cell_type": "code",
   "execution_count": null,
   "id": "83a6b9f5-b66c-40bd-a365-3f849ccfc226",
   "metadata": {},
   "outputs": [],
   "source": [
    "disp = ConfusionMatrixDisplay(confusion_matrix=cm, display_labels=clf.classes_)\n",
    "disp.plot()"
   ]
  },
  {
   "cell_type": "code",
   "execution_count": null,
   "id": "0124d982",
   "metadata": {},
   "outputs": [],
   "source": [
    "confusion_matrix(y_test, y_pred)"
   ]
  },
  {
   "cell_type": "code",
   "execution_count": null,
   "id": "aa345955",
   "metadata": {},
   "outputs": [],
   "source": [
    "print(classification_report(y_test, y_pred))"
   ]
  },
  {
   "cell_type": "markdown",
   "id": "f643b36d",
   "metadata": {},
   "source": [
    "#### 1.9 Use the trained classifier to classify new unseen instances"
   ]
  },
  {
   "cell_type": "code",
   "execution_count": null,
   "id": "e5c2e5c6",
   "metadata": {},
   "outputs": [],
   "source": [
    "unknown_fruit_1 = [300,200,300,0.7]\n",
    "clf.predict([unknown_fruit_1])"
   ]
  },
  {
   "cell_type": "code",
   "execution_count": null,
   "id": "4c981139",
   "metadata": {},
   "outputs": [],
   "source": [
    "#Query the dictionary to know the name of the fruit\n",
    "dict_mapping_fruits[3]"
   ]
  },
  {
   "cell_type": "markdown",
   "id": "9daff72b",
   "metadata": {},
   "source": [
    "#### 1.10 Bonus Exercise: For those interested to visualize the KNN Decision Boundary "
   ]
  },
  {
   "cell_type": "code",
   "execution_count": null,
   "id": "a7e4b1df",
   "metadata": {},
   "outputs": [],
   "source": [
    "!pip install yellowbrick"
   ]
  },
  {
   "cell_type": "markdown",
   "id": "31e595cf",
   "metadata": {},
   "source": [
    "We need to select only 2 features to predict the fruit label because of the constraints of the visualization library Yellowbrick. So we select, `width` and `height`. We train the KNN model on these 2 features to predict the fruit label. "
   ]
  },
  {
   "cell_type": "code",
   "execution_count": null,
   "id": "31cf716f",
   "metadata": {},
   "outputs": [],
   "source": [
    "from yellowbrick.contrib.classifier import DecisionViz\n",
    "select_two_features = ['width','height'] #limitations of 2 dimesions in yellowbrick\n",
    "X = df_fruits[select_two_features]\n",
    "y = df_fruits['fruit_label'] \n",
    "\n"
   ]
  },
  {
   "cell_type": "code",
   "execution_count": null,
   "id": "f9380dc3",
   "metadata": {},
   "outputs": [],
   "source": [
    "X = X.to_numpy()# for usage in yellowbrick module. Only numpy arrays are accepted\n",
    "y = y.to_numpy()\n",
    "X_train, X_test, y_train, y_test = train_test_split(X, y, random_state=0)  #default split is 75 / 25"
   ]
  },
  {
   "cell_type": "markdown",
   "id": "53e6c9b1",
   "metadata": {},
   "source": [
    "Visualize the Decision Boundary of KNN on the training set. "
   ]
  },
  {
   "cell_type": "code",
   "execution_count": null,
   "id": "b495374c",
   "metadata": {},
   "outputs": [],
   "source": [
    "viz = DecisionViz(\n",
    "    KNeighborsClassifier(4), title=\"Nearest Neighbors\",\n",
    "    features=['width', 'height'], classes=[1,2,3,4]\n",
    ")\n",
    "viz.fit(X_train, y_train)\n",
    "viz.draw(X_train, y_train) \n",
    "viz.show()"
   ]
  }
 ],
 "metadata": {
  "kernelspec": {
   "display_name": "Python 3 (ipykernel)",
   "language": "python",
   "name": "python3"
  },
  "language_info": {
   "codemirror_mode": {
    "name": "ipython",
    "version": 3
   },
   "file_extension": ".py",
   "mimetype": "text/x-python",
   "name": "python",
   "nbconvert_exporter": "python",
   "pygments_lexer": "ipython3",
   "version": "3.12.8"
  }
 },
 "nbformat": 4,
 "nbformat_minor": 5
}
